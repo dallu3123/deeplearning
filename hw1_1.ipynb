{
 "cells": [
  {
   "metadata": {},
   "cell_type": "markdown",
   "source": "",
   "id": "a4080cca9119a1e4"
  },
  {
   "metadata": {},
   "cell_type": "markdown",
   "source": "<h1>a_tensor_initialization.py<h1>",
   "id": "e2fd6f1b28592cde"
  },
  {
   "metadata": {
    "ExecuteTime": {
     "end_time": "2024-09-22T13:12:10.503033Z",
     "start_time": "2024-09-22T13:12:08.508582Z"
    }
   },
   "cell_type": "code",
   "source": "import torch",
   "id": "a9e99e8fa27e2d5a",
   "outputs": [],
   "execution_count": 1
  },
  {
   "metadata": {
    "ExecuteTime": {
     "end_time": "2024-09-22T13:25:19.088658Z",
     "start_time": "2024-09-22T13:25:19.072363Z"
    }
   },
   "cell_type": "code",
   "source": [
    "t1 = torch.Tensor([1,2,3], device='cpu') # \n",
    "print(t1.dtype)         # dtype의 경우 텐서의 자료형을 알려주는 변수입니다.\n",
    "print(t1.device)        # device의 경우 텐서가 cpu위에 있는지 gpu위에 있는지 알려줍니다.\n",
    "print(t1.requires_grad) # requires_grad의 경우 True 일 경우 이 텐서에 대한 기울기를 저장하게 됩니다.\n",
    "print(t1.size())        # size()함수의 경우 이 텐서의 크기를 알려주는 함수입니다.\n",
    "print(t1.shape)         # shape는 size()함수와 마찬가지로 텐서의 크기를 알려줍니다."
   ],
   "id": "ebc5f2ce4f998dc2",
   "outputs": [
    {
     "name": "stdout",
     "output_type": "stream",
     "text": [
      "torch.float32\n",
      "cpu\n",
      "False\n",
      "torch.Size([3])\n",
      "torch.Size([3])\n"
     ]
    }
   ],
   "execution_count": 2
  },
  {
   "metadata": {},
   "cell_type": "markdown",
   "source": " - 위 코드는 torch.Tensor클래스의 기본적인 클래스 변수와 함수에 대한 설명입니다.",
   "id": "e4415d751165a743"
  },
  {
   "metadata": {
    "ExecuteTime": {
     "end_time": "2024-09-22T13:29:23.902258Z",
     "start_time": "2024-09-22T13:29:23.717333Z"
    }
   },
   "cell_type": "code",
   "source": [
    "t1_cuda = t1.to(torch.device('cuda'))   # 텐서가 gpu상에서 작동하도록 to함수를 이용해서 변경해 주었습니다.\n",
    "t1_cuda = t1.cuda()                     # cuda()함수를 통해서 gpu상에서 작동하도록 해주었습니다.\n",
    "t1_cpu = t1.cpu()                       # cpu()함수를 통해서 cpu상에서 작동하도록 해주었습니다."
   ],
   "id": "7b582a9e143dcd25",
   "outputs": [],
   "execution_count": 3
  },
  {
   "metadata": {
    "ExecuteTime": {
     "end_time": "2024-09-22T13:35:11.878144Z",
     "start_time": "2024-09-22T13:35:11.861139Z"
    }
   },
   "cell_type": "code",
   "source": [
    "t2 = torch.tensor([1,2,3], device='cpu')\n",
    "print(t2.dtype)         # t1과 다른 점은 Tensor가 아닌 tensor를 사용해서 자료형이 int64설정 되었습니다.\n",
    "print(t2.device)        # device의 경우 t1과 마찬가지로 cpu입니다.\n",
    "print(t2.requires_grad) # >>> False (t1에서 설명함)\n",
    "print(t2.size())        # t1과 마찬가지로 자료형만 다르고 크기는 같아 torch.Size([3])이 나옵니다.\n",
    "print(t2.shape)         # > torch.Size([3])"
   ],
   "id": "f130c0fdbd536f0a",
   "outputs": [
    {
     "name": "stdout",
     "output_type": "stream",
     "text": [
      "torch.int64\n",
      "cpu\n",
      "False\n",
      "torch.Size([3])\n",
      "torch.Size([3])\n"
     ]
    }
   ],
   "execution_count": 4
  },
  {
   "metadata": {},
   "cell_type": "markdown",
   "source": " - torch.Tensor()와 torch.tensor()을 사용하여 텐서를 만들고 텐서의 형태, 크기, 자료형 등을 알아 보았다.",
   "id": "fb32f7c44e15fc37"
  },
  {
   "metadata": {
    "ExecuteTime": {
     "end_time": "2024-09-22T13:49:32.588541Z",
     "start_time": "2024-09-22T13:49:32.570540Z"
    }
   },
   "cell_type": "code",
   "source": [
    "a1 = torch.tensor(1)\n",
    "print(a1.shape, a1.ndim) # ndim은 텐서의 차원을 알려줍니다. \n",
    "# 텐서의 차원은 []의 개수로 정해집니다. a1텐서는 (1)이므로 차원이 0차원이어서 크기도 출력이 되지 않습니다."
   ],
   "id": "3e71adf09ecad2f3",
   "outputs": [
    {
     "name": "stdout",
     "output_type": "stream",
     "text": [
      "torch.Size([]) 0\n"
     ]
    }
   ],
   "execution_count": 5
  },
  {
   "metadata": {
    "ExecuteTime": {
     "end_time": "2024-09-22T13:57:13.898692Z",
     "start_time": "2024-09-22T13:57:13.891691Z"
    }
   },
   "cell_type": "code",
   "source": [
    "a2 = torch.tensor([1])\n",
    "print(a2.shape, a2.ndim) #텐서가 [1]이므로 차원은 1이고 안에 차원안에 들어있는 요소의 개수가 1개이므로 크기가 1입니다."
   ],
   "id": "a52f4242a0cb8df4",
   "outputs": [
    {
     "name": "stdout",
     "output_type": "stream",
     "text": [
      "torch.Size([1]) 1\n"
     ]
    }
   ],
   "execution_count": 6
  },
  {
   "metadata": {
    "ExecuteTime": {
     "end_time": "2024-09-22T13:58:31.635744Z",
     "start_time": "2024-09-22T13:58:31.628743Z"
    }
   },
   "cell_type": "code",
   "source": [
    "a3 = torch.tensor([1, 2, 3, 4, 5]) \n",
    "print(a3.shape, a3.ndim) #텐서가 [1,2,3,4,5]이므로 차원은 1이고 안에 요소의 개수가 5개이므로 크기가 5입니다."
   ],
   "id": "a81dfee39b0f3f",
   "outputs": [
    {
     "name": "stdout",
     "output_type": "stream",
     "text": [
      "torch.Size([5]) 1\n"
     ]
    }
   ],
   "execution_count": 7
  },
  {
   "metadata": {
    "ExecuteTime": {
     "end_time": "2024-09-22T14:02:23.901674Z",
     "start_time": "2024-09-22T14:02:23.893673Z"
    }
   },
   "cell_type": "code",
   "source": [
    "a4 = torch.tensor([[1],[2],[3],[4],[5]])\n",
    "print(a4.shape, a4.ndim) #텐서가 [[1],[2],[3],[4],[5]]이므로 차원은 2이다.\n",
    "# 차원이 2개이므로 가장 안쪽 차원은 요소가 1개있고 이 바깥쪽 차원은 5개의 요소가 있으므로 텐서의 크기는 [5, 1]이다."
   ],
   "id": "81141be2bbc417a4",
   "outputs": [
    {
     "name": "stdout",
     "output_type": "stream",
     "text": [
      "torch.Size([5, 1]) 2\n"
     ]
    }
   ],
   "execution_count": 8
  },
  {
   "metadata": {
    "ExecuteTime": {
     "end_time": "2024-09-22T14:04:21.939577Z",
     "start_time": "2024-09-22T14:04:21.922573Z"
    }
   },
   "cell_type": "code",
   "source": [
    "a5 = torch.tensor([                \n",
    "    [1, 2],\n",
    "    [3, 4],\n",
    "    [5, 6]\n",
    "])\n",
    "print(a5.shape, a5.ndim) # 텐서에서 []의 쌍의 개수가 2개로 차원은 2이다.\n",
    "# 첫 번째 차원 안에는 요소가 3개가 있고 두 번째 차원 안에는 요소가 2개 있으므로 텐서의 크기는 [3, 2]이다."
   ],
   "id": "906274eda7cc634",
   "outputs": [
    {
     "name": "stdout",
     "output_type": "stream",
     "text": [
      "torch.Size([3, 2]) 2\n"
     ]
    }
   ],
   "execution_count": 9
  },
  {
   "metadata": {
    "ExecuteTime": {
     "end_time": "2024-09-22T14:08:22.055038Z",
     "start_time": "2024-09-22T14:08:22.040860Z"
    }
   },
   "cell_type": "code",
   "source": [
    "a6 = torch.tensor([                \n",
    "    [[1], [2]],\n",
    "    [[3], [4]],\n",
    "    [[5], [6]]\n",
    "])\n",
    "print(a6.shape, a6.ndim) #텐서에서 []의 쌍의 개수가 3개로 차원은 3이다.\n",
    "# 첫 번째 차원 안에는 요소가 3개 있고 두 번째 차원 안에는 요소가 2개 있고 세 번째 차원 안에는 요소가 1개 있어서 텐서의 크기는 [3, 2, 1]이다. "
   ],
   "id": "2bd091dd42bb899",
   "outputs": [
    {
     "name": "stdout",
     "output_type": "stream",
     "text": [
      "torch.Size([3, 2, 1]) 3\n"
     ]
    }
   ],
   "execution_count": 10
  },
  {
   "metadata": {
    "ExecuteTime": {
     "end_time": "2024-09-22T14:08:24.342828Z",
     "start_time": "2024-09-22T14:08:24.336826Z"
    }
   },
   "cell_type": "code",
   "source": [
    "a7 = torch.tensor([                 \n",
    "    [[[1], [2]]],\n",
    "    [[[3], [4]]],\n",
    "    [[[5], [6]]]\n",
    "])\n",
    "print(a7.shape, a7.ndim) #텐서에서 []의 쌍의 개수가 4개로 차원은 4이다.\n",
    "# 첫 번째 차원은 요소가 3개, 두 번째 차원은 요소가 1개, 세 번째 차원은 요소가 2개, 네 번째 차원은 요소가 1개 있어서 텐서의 크기는 [3, 1, 2, 1]이다."
   ],
   "id": "e821eca5bb51de64",
   "outputs": [
    {
     "name": "stdout",
     "output_type": "stream",
     "text": [
      "torch.Size([3, 1, 2, 1]) 4\n"
     ]
    }
   ],
   "execution_count": 11
  },
  {
   "metadata": {
    "ExecuteTime": {
     "end_time": "2024-09-22T14:09:56.386689Z",
     "start_time": "2024-09-22T14:09:56.375687Z"
    }
   },
   "cell_type": "code",
   "source": [
    "a8 = torch.tensor([                \n",
    "    [[[1, 2, 3], [2, 3, 4]]],\n",
    "    [[[3, 1, 1], [4, 4, 5]]],\n",
    "    [[[5, 6, 2], [6, 3, 1]]]\n",
    "])\n",
    "print(a8.shape, a8.ndim) #텐서에서 []의 쌍의 개수가 4개로 차원은 4이다.\n",
    "# 첫 번째 차원은 요소가 3개, 두 번째 차원은 요소가 1개, 세 번째 차원은 요소가 2개, 네 번째 차원은 요소가 3개 있어서 텐서의 크기는 [3, 1, 2, 3]이다."
   ],
   "id": "b6677b54a2b19dca",
   "outputs": [
    {
     "name": "stdout",
     "output_type": "stream",
     "text": [
      "torch.Size([3, 1, 2, 3]) 4\n"
     ]
    }
   ],
   "execution_count": 12
  },
  {
   "metadata": {
    "ExecuteTime": {
     "end_time": "2024-09-22T14:10:52.677673Z",
     "start_time": "2024-09-22T14:10:52.660669Z"
    }
   },
   "cell_type": "code",
   "source": [
    "a9 = torch.tensor([                 \n",
    "    [[[[1], [2], [3]], [[2], [3], [4]]]],\n",
    "    [[[[3], [1], [1]], [[4], [4], [5]]]],\n",
    "    [[[[5], [6], [2]], [[6], [3], [1]]]]\n",
    "])\n",
    "print(a9.shape, a9.ndim) #텐서에서 []의 쌍의 개수가 5개로 차원은 5이다.\n",
    "# 첫 번째 차원은 요소가 3개, 두 번째 차원은 요소가 1개, 세 번째 차원은 요소가 2개, 네 번째 차원은 요소가 3개, \n",
    "# 다섯 번째 차원은 요소가 1개 있어서 텐서의 크기는 [3, 1, 2, 3, 1]이다."
   ],
   "id": "ca60598e92d4c152",
   "outputs": [
    {
     "name": "stdout",
     "output_type": "stream",
     "text": [
      "torch.Size([3, 1, 2, 3, 1]) 5\n"
     ]
    }
   ],
   "execution_count": 13
  },
  {
   "metadata": {
    "ExecuteTime": {
     "end_time": "2024-09-22T14:11:53.423706Z",
     "start_time": "2024-09-22T14:11:53.409703Z"
    }
   },
   "cell_type": "code",
   "source": [
    "a10 = torch.tensor([                \n",
    "    [1, 2, 3, 4, 5],\n",
    "    [1, 2, 3, 4, 5],\n",
    "    [1, 2, 3, 4, 5],\n",
    "    [1, 2, 3, 4, 5],\n",
    "])\n",
    "print(a10.shape, a10.ndim) #텐서에서 []의 쌍의 개수가 2개로 차원은 2이다.\n",
    "# 첫 번째 차원은 요소가 4개, 두 번째 차원은 요소가 5개로 텐서의 크기는 [4, 5] 이다."
   ],
   "id": "693831c027044e69",
   "outputs": [
    {
     "name": "stdout",
     "output_type": "stream",
     "text": [
      "torch.Size([4, 5]) 2\n"
     ]
    }
   ],
   "execution_count": 15
  },
  {
   "metadata": {},
   "cell_type": "code",
   "outputs": [],
   "execution_count": null,
   "source": [
    "a11 = torch.tensor([                \n",
    "    [[[1, 2, 3], [4, 5]]],\n",
    "    [[[1, 2, 3], [4, 5]]],\n",
    "    [[[1, 2, 3], [4, 5]]],\n",
    "    [[[1, 2, 3], [4, 5]]],\n",
    "]) # 이 텐서의 경우 각 차원의 내부의 크기가 같아야 하는데 같지 않아 오류를 일으킨다."
   ],
   "id": "fcd197361015a3e0"
  },
  {
   "metadata": {},
   "cell_type": "markdown",
   "source": "<H1>b_tensor_initialization_copy.py<H1>",
   "id": "34c8c815c1a05441"
  },
  {
   "metadata": {
    "ExecuteTime": {
     "end_time": "2024-09-22T14:56:07.734343Z",
     "start_time": "2024-09-22T14:56:07.726341Z"
    }
   },
   "cell_type": "code",
   "source": "import numpy as np",
   "id": "231ba55e9a929dd7",
   "outputs": [],
   "execution_count": 17
  },
  {
   "metadata": {
    "ExecuteTime": {
     "end_time": "2024-09-22T14:57:23.642939Z",
     "start_time": "2024-09-22T14:57:23.624936Z"
    }
   },
   "cell_type": "code",
   "source": [
    "l1 = [1, 2, 3]\n",
    "t1 = torch.Tensor(l1)   #list l1을 이용해서 Tensor를 만들었다.(dtype = float32)\n",
    "\n",
    "l2 = [1, 2, 3]\n",
    "t2 = torch.tensor(l2)   #list l2을 이용해서 tensor를 만들었다. (dtype = int64)\n",
    "\n",
    "l3 = [1, 2, 3]\n",
    "t3 = torch.as_tensor(l3)   #list l3을 이용해서 tensor를 만들었다.\n",
    "\n",
    "l1[0] = 100             #tensor를 만들 때 list의 참조 값을 복사하는 것이 아닌 내부 값을 자체를 복사하기 때문에 값을 변경해도 출력값이 변하지 않는다. \n",
    "l2[0] = 100\n",
    "l3[0] = 100\n",
    "\n",
    "print(t1)\n",
    "print(t2)\n",
    "print(t3)"
   ],
   "id": "97a4619ba304d91",
   "outputs": [
    {
     "name": "stdout",
     "output_type": "stream",
     "text": [
      "tensor([1., 2., 3.])\n",
      "tensor([1, 2, 3])\n",
      "tensor([1, 2, 3])\n"
     ]
    }
   ],
   "execution_count": 19
  },
  {
   "metadata": {},
   "cell_type": "markdown",
   "source": " - list를 이용해서 tensor를 생성할 때는 list에 값 자체를 복사하여 tensor를 생성한다.",
   "id": "4e4ec0a9d4b1d722"
  },
  {
   "metadata": {
    "ExecuteTime": {
     "end_time": "2024-09-22T15:04:52.250330Z",
     "start_time": "2024-09-22T15:04:52.237326Z"
    }
   },
   "cell_type": "code",
   "source": [
    "l4 = np.array([1, 2, 3])  \n",
    "t4 = torch.Tensor(l4)       #numpy의 배열을 이용해서 datatype이 float32인 텐서를 만들 수 있다. \n",
    "\n",
    "l5 = np.array([1, 2, 3])\n",
    "t5 = torch.tensor(l5)       #numpy의 배열을 이용해서 datatype이 int32인 텐서를 만들 수 있다.\n",
    "\n",
    "l6 = np.array([1, 2, 3])\n",
    "t6 = torch.as_tensor(l6)    #numpy의 배열을 이용해서 datatype이 int32인 텐서를 만들 수 있다.\n",
    "\n",
    "l4[0] = 100\n",
    "l5[0] = 100\n",
    "l6[0] = 100\n",
    "\n",
    "print(t4)\n",
    "print(t5)\n",
    "print(t6)\n",
    "#t4와 t5의 경우 numpy의 배열에 첫번째 요소를 100으로 바꾸었을 때 텐서는 바뀌지 않았지만 t6의 경우 값이 바뀐 것을 통해서 \n",
    "#as_tensor()의 경우 numpy의 배열은 참조값을 복사해서 값이 변경이 되었다. "
   ],
   "id": "b7eb8fe12c12a06a",
   "outputs": [
    {
     "name": "stdout",
     "output_type": "stream",
     "text": [
      "tensor([1., 2., 3.])\n",
      "tensor([1, 2, 3], dtype=torch.int32)\n",
      "tensor([100,   2,   3], dtype=torch.int32)\n"
     ]
    }
   ],
   "execution_count": 20
  },
  {
   "metadata": {},
   "cell_type": "markdown",
   "source": " - 리스트와 numpy배열을 tensor로 바꾸는 과정을 실행하였다.",
   "id": "78f6771cbba5c162"
  },
  {
   "metadata": {},
   "cell_type": "markdown",
   "source": "<H1>c_tensor_initialization_constant_values.py<H1>",
   "id": "b53ea0e98666f32c"
  },
  {
   "metadata": {
    "ExecuteTime": {
     "end_time": "2024-09-23T11:29:08.376673Z",
     "start_time": "2024-09-23T11:29:05.684065Z"
    }
   },
   "cell_type": "code",
   "source": "import torch",
   "id": "48bfe449bd42b302",
   "outputs": [],
   "execution_count": 2
  },
  {
   "metadata": {
    "ExecuteTime": {
     "end_time": "2024-09-22T15:20:03.001175Z",
     "start_time": "2024-09-22T15:20:02.990172Z"
    }
   },
   "cell_type": "code",
   "source": [
    "t1 = torch.ones(size=(5,))              # ones()함수는 텐서의 값들을 전부 1로 해서 만들어 준다. 이 경우 차원 1이고 크기가[5]인 텐서에 값은 모두 1이다.\n",
    "t1_like = torch.ones_like(input=t1)     # ones_like()함수는 input값에 들어 있는 텐서의 차원과 크기가 같은 텐서에 값은 모두 1로 되어 있는 텐서를 만들어 준다.\n",
    "print(t1)  \n",
    "print(t1_like)"
   ],
   "id": "5dc5bbe3212981f4",
   "outputs": [
    {
     "name": "stdout",
     "output_type": "stream",
     "text": [
      "tensor([1., 1., 1., 1., 1.])\n",
      "tensor([1., 1., 1., 1., 1.])\n"
     ]
    }
   ],
   "execution_count": 21
  },
  {
   "metadata": {
    "ExecuteTime": {
     "end_time": "2024-09-23T11:29:09.684969Z",
     "start_time": "2024-09-23T11:29:09.654962Z"
    }
   },
   "cell_type": "code",
   "source": [
    "t2 = torch.zeros(size=(6,))             #zeros()함수는 텐서의 값들을 전부 0으로 해서 만들어 준다. 이 경우 차원 1이고 크기가[6]인 텐서에 값은 모두 0이다.\n",
    "t2_like = torch.zeros_like(input=t2)    #ones_like()함수는 input값에 들어 있는 텐서의 차원과 크기가 같은 텐서에 값은 모두 0으로 되어 있는 텐서를 만들어 준다.\n",
    "print(t2)  # >>> tensor([0., 0., 0., 0., 0., 0.])\n",
    "print(t2_like)  # >>> tensor([0., 0., 0., 0., 0., 0.])"
   ],
   "id": "2afbedcec2655ed8",
   "outputs": [
    {
     "name": "stdout",
     "output_type": "stream",
     "text": [
      "tensor([0., 0., 0., 0., 0., 0.])\n",
      "tensor([0., 0., 0., 0., 0., 0.])\n"
     ]
    }
   ],
   "execution_count": 3
  },
  {
   "metadata": {
    "ExecuteTime": {
     "end_time": "2024-09-23T11:32:37.551657Z",
     "start_time": "2024-09-23T11:32:37.532653Z"
    }
   },
   "cell_type": "code",
   "source": [
    "t3 = torch.empty(size=(4,))             #empty()함수는 아무값도 초기화 되지 않은 텐서를 만들어준다. 텐서의 각 값들은 쓰레기 값이 나온다.\n",
    "t3_like = torch.empty_like(input=t3)    #empty_like()함수는 input값에 들어 있는 텐서의 차원과 크기가 같은 텐서에 값은 모두 초기화 되어 있지 않는 텐서를 만든다.\n",
    "print(t3) \n",
    "print(t3_like)  "
   ],
   "id": "5ad473bfd6d7e15e",
   "outputs": [
    {
     "name": "stdout",
     "output_type": "stream",
     "text": [
      "tensor([2.3694e-38, 2.0000e+00, 1.7756e+00, 4.5491e-01])\n",
      "tensor([2.3694e-38, 2.0000e+00, 1.7756e+00, 4.5491e-01])\n"
     ]
    }
   ],
   "execution_count": 29
  },
  {
   "metadata": {
    "ExecuteTime": {
     "end_time": "2024-09-23T11:39:34.989248Z",
     "start_time": "2024-09-23T11:39:34.976245Z"
    }
   },
   "cell_type": "code",
   "source": [
    "t4 = torch.eye(n=3)                     #eye()함수는 단위행렬과 형태가 같은 텐서를 만들어 준다.\n",
    "print(t4)"
   ],
   "id": "4eccd3d1eb23fbb3",
   "outputs": [
    {
     "name": "stdout",
     "output_type": "stream",
     "text": [
      "tensor([[1., 0., 0.],\n",
      "        [0., 1., 0.],\n",
      "        [0., 0., 1.]])\n"
     ]
    }
   ],
   "execution_count": 30
  },
  {
   "metadata": {},
   "cell_type": "markdown",
   "source": " - 텐서를 만들어주는 ones, zeros, empty, eye()함수를 사용하여 각 텐서를 출력하였다.",
   "id": "861176456e9844ff"
  },
  {
   "metadata": {},
   "cell_type": "markdown",
   "source": "<H1>d_tensor_initialization_random_values.py<H1>",
   "id": "bf51b42799c2dede"
  },
  {
   "metadata": {
    "ExecuteTime": {
     "end_time": "2024-09-23T11:42:03.700166Z",
     "start_time": "2024-09-23T11:42:03.689163Z"
    }
   },
   "cell_type": "code",
   "source": "import torch",
   "id": "61d06d98ebcf6924",
   "outputs": [],
   "execution_count": 31
  },
  {
   "metadata": {
    "ExecuteTime": {
     "end_time": "2024-09-23T11:43:52.460697Z",
     "start_time": "2024-09-23T11:43:52.443693Z"
    }
   },
   "cell_type": "code",
   "source": [
    "#randint()함수는 지정된 범위 low~high에서 랜덤한 정수들로 채워진 텐서를 생성한다.\n",
    "t1 = torch.randint(low=10, high=20, size=(1, 2))\n",
    "print(t1)"
   ],
   "id": "1524b230cfbcb4ab",
   "outputs": [
    {
     "name": "stdout",
     "output_type": "stream",
     "text": [
      "tensor([[12, 19]])\n"
     ]
    }
   ],
   "execution_count": 32
  },
  {
   "metadata": {
    "ExecuteTime": {
     "end_time": "2024-09-23T11:46:19.325341Z",
     "start_time": "2024-09-23T11:46:19.314338Z"
    }
   },
   "cell_type": "code",
   "source": [
    "#rand()함수는 0과 1 사이의 랜덤한 실수로 채워진 텐서를 생성한다. \n",
    "t2 = torch.rand(size=(1, 3)) \n",
    "print(t2)"
   ],
   "id": "e78cac3652f90a7",
   "outputs": [
    {
     "name": "stdout",
     "output_type": "stream",
     "text": [
      "tensor([[0.2315, 0.6328, 0.6561]])\n"
     ]
    }
   ],
   "execution_count": 33
  },
  {
   "metadata": {
    "ExecuteTime": {
     "end_time": "2024-09-23T11:47:53.488716Z",
     "start_time": "2024-09-23T11:47:53.477713Z"
    }
   },
   "cell_type": "code",
   "source": [
    "#randn() 함수는 평균이 0이고 표준편차 1을 따르는 정규분포로부터의 값으로 채워진 텐서를 생성한다.\n",
    "t3 = torch.randn(size=(1, 3)) \n",
    "print(t3)"
   ],
   "id": "80525c150b4b6c37",
   "outputs": [
    {
     "name": "stdout",
     "output_type": "stream",
     "text": [
      "tensor([[ 1.9232,  0.5376, -0.9350]])\n"
     ]
    }
   ],
   "execution_count": 34
  },
  {
   "metadata": {
    "ExecuteTime": {
     "end_time": "2024-09-23T11:49:11.335162Z",
     "start_time": "2024-09-23T11:49:11.330161Z"
    }
   },
   "cell_type": "code",
   "source": [
    "#normal()함수는 평균과 표준편차를 매개변수로 받아 그것들을 따르는 정규분포로부터의 값으로 채워진 텐서를 생성한다.\n",
    "t4 = torch.normal(mean=10.0, std=1.0, size=(3, 2))\n",
    "print(t4)"
   ],
   "id": "5c827def7af08c2c",
   "outputs": [
    {
     "name": "stdout",
     "output_type": "stream",
     "text": [
      "tensor([[ 9.1848,  9.6201],\n",
      "        [12.0301, 10.0804],\n",
      "        [ 9.1879,  8.9104]])\n"
     ]
    }
   ],
   "execution_count": 38
  },
  {
   "metadata": {
    "ExecuteTime": {
     "end_time": "2024-09-23T11:50:40.818915Z",
     "start_time": "2024-09-23T11:50:40.802912Z"
    }
   },
   "cell_type": "code",
   "source": [
    "#linspace()함수는 start부터 end까지 steps개의 동일한 간격으로 나누어진 값을 가진 텐서를 생성한다.\n",
    "t5 = torch.linspace(start=0.0, end=5.0, steps=3)\n",
    "print(t5)"
   ],
   "id": "366b7c2f452b3344",
   "outputs": [
    {
     "name": "stdout",
     "output_type": "stream",
     "text": [
      "tensor([0.0000, 2.5000, 5.0000])\n"
     ]
    }
   ],
   "execution_count": 39
  },
  {
   "metadata": {
    "ExecuteTime": {
     "end_time": "2024-09-23T11:51:34.395448Z",
     "start_time": "2024-09-23T11:51:34.382444Z"
    }
   },
   "cell_type": "code",
   "source": [
    "#arange()함수는 0부터 (매개변수로 받는 값-1)까지의 정수로 구성된 1차원 텐서를 생성한다.\n",
    "t6 = torch.arange(5)\n",
    "print(t6)"
   ],
   "id": "d83879524dd0e7b9",
   "outputs": [
    {
     "name": "stdout",
     "output_type": "stream",
     "text": [
      "tensor([0, 1, 2, 3, 4])\n"
     ]
    }
   ],
   "execution_count": 40
  },
  {
   "metadata": {
    "ExecuteTime": {
     "end_time": "2024-09-23T11:52:25.535770Z",
     "start_time": "2024-09-23T11:52:25.511764Z"
    }
   },
   "cell_type": "code",
   "source": "torch.manual_seed(1729) # torch.manual_seed로 난수 생성 시드를 고정할 수 있다.",
   "id": "8865bbaf1cbfac0a",
   "outputs": [
    {
     "data": {
      "text/plain": [
       "<torch._C.Generator at 0x164fed45850>"
      ]
     },
     "execution_count": 41,
     "metadata": {},
     "output_type": "execute_result"
    }
   ],
   "execution_count": 41
  },
  {
   "metadata": {
    "ExecuteTime": {
     "end_time": "2024-09-23T11:53:28.489052Z",
     "start_time": "2024-09-23T11:53:28.476048Z"
    }
   },
   "cell_type": "code",
   "source": [
    "#random1과 random2는 0과 1 사이의 랜덤한 실수로 채워진 2*3텐서를 생성한다.\n",
    "random1 = torch.rand(2, 3)\n",
    "print(random1)\n",
    "random2 = torch.rand(2, 3)\n",
    "print(random2)"
   ],
   "id": "786a81baf4b827a5",
   "outputs": [
    {
     "name": "stdout",
     "output_type": "stream",
     "text": [
      "tensor([[0.3126, 0.3791, 0.3087],\n",
      "        [0.0736, 0.4216, 0.0691]])\n",
      "tensor([[0.2332, 0.4047, 0.2162],\n",
      "        [0.9927, 0.4128, 0.5938]])\n"
     ]
    }
   ],
   "execution_count": 42
  },
  {
   "metadata": {
    "ExecuteTime": {
     "end_time": "2024-09-23T11:54:35.388792Z",
     "start_time": "2024-09-23T11:54:35.372788Z"
    }
   },
   "cell_type": "code",
   "source": "torch.manual_seed(1729)",
   "id": "b9d469e5b1899d86",
   "outputs": [
    {
     "data": {
      "text/plain": [
       "<torch._C.Generator at 0x164fed45850>"
      ]
     },
     "execution_count": 43,
     "metadata": {},
     "output_type": "execute_result"
    }
   ],
   "execution_count": 43
  },
  {
   "metadata": {
    "ExecuteTime": {
     "end_time": "2024-09-23T11:55:18.476371Z",
     "start_time": "2024-09-23T11:55:18.458367Z"
    }
   },
   "cell_type": "code",
   "source": [
    "#random3는 동일한 시드로 인해 random1과 같은 텐서를 생성한다.\n",
    "random3 = torch.rand(2, 3)\n",
    "print(random3)\n",
    "#random4는 동일한 시드로 인해 random2과 같은 텐서를 생성한다.\n",
    "random4 = torch.rand(2, 3)\n",
    "print(random4)"
   ],
   "id": "6b13acd62ed4f22c",
   "outputs": [
    {
     "name": "stdout",
     "output_type": "stream",
     "text": [
      "tensor([[0.3126, 0.3791, 0.3087],\n",
      "        [0.0736, 0.4216, 0.0691]])\n",
      "tensor([[0.2332, 0.4047, 0.2162],\n",
      "        [0.9927, 0.4128, 0.5938]])\n"
     ]
    }
   ],
   "execution_count": 44
  },
  {
   "metadata": {},
   "cell_type": "markdown",
   "source": " - 랜덤한 값으로 텐서를 생성하거나 정규분포를 통해서 텐서를 생성하였고 시드를 고정시켜서 랜덤한 값을 지정해줄 수 있도록 해주는 코드를 실행하였다.",
   "id": "7b6ad147bfbdb2fb"
  },
  {
   "metadata": {},
   "cell_type": "markdown",
   "source": "<H1>e_tensor_type_conversion.py<H1>",
   "id": "86432ad849e4662c"
  },
  {
   "metadata": {
    "ExecuteTime": {
     "end_time": "2024-09-23T11:57:44.480741Z",
     "start_time": "2024-09-23T11:57:44.476740Z"
    }
   },
   "cell_type": "code",
   "source": "import torch",
   "id": "fe0320436283e1d0",
   "outputs": [],
   "execution_count": 45
  },
  {
   "metadata": {
    "ExecuteTime": {
     "end_time": "2024-09-23T11:59:13.762214Z",
     "start_time": "2024-09-23T11:59:13.759213Z"
    }
   },
   "cell_type": "code",
   "source": [
    "#a는 2*3 크기의 1로 채워진 텐서를 생성한다.\n",
    "a = torch.ones((2, 3))\n",
    "print(a.dtype)          #기본적으로 ones의 데이터 타입은 float32여서 torch.float32가 출력된다."
   ],
   "id": "38465167d095dc97",
   "outputs": [
    {
     "name": "stdout",
     "output_type": "stream",
     "text": [
      "torch.float32\n"
     ]
    }
   ],
   "execution_count": 46
  },
  {
   "metadata": {
    "ExecuteTime": {
     "end_time": "2024-09-23T11:59:56.493093Z",
     "start_time": "2024-09-23T11:59:56.482090Z"
    }
   },
   "cell_type": "code",
   "source": [
    "#b는 2*3 크기의 1로 채워진 텐서를 생성한다. 데이터 타입은 int16으로 지정한다.\n",
    "b = torch.ones((2, 3),dtype=torch.int16)    \n",
    "print(b)                                    #데이터 타입은 torch.int16로 출력된다."
   ],
   "id": "78c636b7c168f364",
   "outputs": [
    {
     "name": "stdout",
     "output_type": "stream",
     "text": [
      "tensor([[1, 1, 1],\n",
      "        [1, 1, 1]], dtype=torch.int16)\n"
     ]
    }
   ],
   "execution_count": 47
  },
  {
   "metadata": {
    "ExecuteTime": {
     "end_time": "2024-09-23T12:00:37.729380Z",
     "start_time": "2024-09-23T12:00:37.719379Z"
    }
   },
   "cell_type": "code",
   "source": [
    "#c는 2*3크기의 랜덤한 값으로 채워진 텐서 생성 후 20을 곱하고 데이터 타입은 float64로 지정한다.\n",
    "c = torch.rand((2, 3), dtype=torch.float64) * 20.\n",
    "print(c)        #데이터 타입은 torch.float64로 출력된다."
   ],
   "id": "88db6bc2687385bc",
   "outputs": [
    {
     "name": "stdout",
     "output_type": "stream",
     "text": [
      "tensor([[18.0429,  7.2532, 19.6519],\n",
      "        [10.8626,  2.1505, 19.6913]], dtype=torch.float64)\n"
     ]
    }
   ],
   "execution_count": 48
  },
  {
   "metadata": {
    "ExecuteTime": {
     "end_time": "2024-09-23T12:02:36.020011Z",
     "start_time": "2024-09-23T12:02:36.014010Z"
    }
   },
   "cell_type": "code",
   "source": [
    "#d는 b에서 데이터 타입을 int32로 변환한 텐서이다.\n",
    "d = b.to(torch.int32)\n",
    "print(d)"
   ],
   "id": "dae94e562f895dca",
   "outputs": [
    {
     "name": "stdout",
     "output_type": "stream",
     "text": [
      "tensor([[1, 1, 1],\n",
      "        [1, 1, 1]], dtype=torch.int32)\n"
     ]
    }
   ],
   "execution_count": 49
  },
  {
   "metadata": {
    "ExecuteTime": {
     "end_time": "2024-09-23T12:07:15.251633Z",
     "start_time": "2024-09-23T12:07:15.233630Z"
    }
   },
   "cell_type": "code",
   "source": [
    "double_d = torch.ones(10, 2, dtype=torch.double)        #double_d는 10*2크기의 1로 채워진 텐서를 생성하고 데이터 타입은 double이다.\n",
    "short_e = torch.tensor([[1, 2]], dtype=torch.short)     #short_e는 2차원 리스트를 통해 구성된 텐서를 생성하고 데이터 타입은 short이다.\n",
    "double_d = torch.zeros(10, 2).double()                  #double_d는 10*2크기의 0으로 채워진 텐서를 생성하고 데이터 타입은 double이다.\n",
    "short_e = torch.ones(10, 2).short()                     #short_e는 10*2크기의 1로 채워진 텐서를 생성하고 데이터 타입은 short이다.\n",
    "double_d = torch.zeros(10, 2).to(torch.double)          #double_d는 10*2크기의 0으로 채워진 텐서를 생성하고 데이터 타입은 double이다.\n",
    "short_e = torch.ones(10, 2).to(dtype=torch.short)       #short_e는 10*2크기의 1로 채워진 텐서를 생성하고 데이터 타입은 short이다."
   ],
   "id": "93faa1b5f880bc1f",
   "outputs": [],
   "execution_count": 50
  },
  {
   "metadata": {
    "ExecuteTime": {
     "end_time": "2024-09-23T12:07:33.668016Z",
     "start_time": "2024-09-23T12:07:33.657013Z"
    }
   },
   "cell_type": "code",
   "source": [
    "print(double_d.dtype) #double = float64\n",
    "print(short_e.dtype)  #short = int16"
   ],
   "id": "777c6dd540d75099",
   "outputs": [
    {
     "name": "stdout",
     "output_type": "stream",
     "text": [
      "torch.float64\n",
      "torch.int16\n"
     ]
    }
   ],
   "execution_count": 51
  },
  {
   "metadata": {
    "ExecuteTime": {
     "end_time": "2024-09-23T12:09:29.329264Z",
     "start_time": "2024-09-23T12:09:29.317260Z"
    }
   },
   "cell_type": "code",
   "source": [
    "double_f = torch.rand(5, dtype=torch.double)            #double_f는 5개의 랜덤한 값으로 채워진 텐서를 생성하고 데이터 타입은 double이다.\n",
    "short_g = double_f.to(torch.short)                      #short_g는 double_f 텐서를 short타입으로 변환한 것이다.\n",
    "print((double_f*short_g).dtype)                         #double_f와 short_g를 곱한 결과의 데이터 타입 출력한다. 이때 더 범위가 큰쪽의 데이터 타입으로 맞춰진다."
   ],
   "id": "4e7c2b8fc178be6f",
   "outputs": [
    {
     "name": "stdout",
     "output_type": "stream",
     "text": [
      "torch.float64\n"
     ]
    }
   ],
   "execution_count": 52
  },
  {
   "metadata": {},
   "cell_type": "markdown",
   "source": " - 텐서를 생성할 때 어떤 데이터 타입으로 생성되는지 알아보고 텐서의 데이터 타입을 변화시키는 코드를 실행하였다.",
   "id": "13c2be174004437a"
  },
  {
   "metadata": {},
   "cell_type": "markdown",
   "source": "<H1>f_tensor_operations.py<H1>",
   "id": "80c6cab3530d4e3a"
  },
  {
   "metadata": {
    "ExecuteTime": {
     "end_time": "2024-09-23T12:12:23.327880Z",
     "start_time": "2024-09-23T12:12:23.321878Z"
    }
   },
   "cell_type": "code",
   "source": "import torch",
   "id": "48522ef4e670591b",
   "outputs": [],
   "execution_count": 53
  },
  {
   "metadata": {
    "ExecuteTime": {
     "end_time": "2024-09-23T12:29:08.292033Z",
     "start_time": "2024-09-23T12:29:08.283032Z"
    }
   },
   "cell_type": "code",
   "source": [
    "#t1과 t2는 2*3크기의 1로 채워진 텐서를 생성한다.\n",
    "t1 = torch.ones(size=(2, 3))\n",
    "t2 = torch.ones(size=(2, 3))\n",
    "#add()함수를 사용해서 t1과 t2의 합을 구한다\n",
    "t3 = torch.add(t1, t2)\n",
    "#t1과 t2의 합을 연산자 +를 사용하여 계산한다.\n",
    "t4 = t1 + t2\n",
    "print(t3)\n",
    "print(t4)"
   ],
   "id": "44020c328a92884d",
   "outputs": [
    {
     "name": "stdout",
     "output_type": "stream",
     "text": [
      "tensor([[2., 2., 2.],\n",
      "        [2., 2., 2.]])\n",
      "tensor([[2., 2., 2.],\n",
      "        [2., 2., 2.]])\n"
     ]
    }
   ],
   "execution_count": 54
  },
  {
   "metadata": {
    "ExecuteTime": {
     "end_time": "2024-09-23T12:30:00.669814Z",
     "start_time": "2024-09-23T12:30:00.650810Z"
    }
   },
   "cell_type": "code",
   "source": [
    "#sub()함수를 사용해서 t1과 t2의 차를 구한다\n",
    "t5 = torch.sub(t1, t2)\n",
    "#t1과 t2의 차를 연산자 -를 사용하여 계산한다.\n",
    "t6 = t1 - t2\n",
    "print(t5)\n",
    "print(t6)"
   ],
   "id": "8e8b4d95ed1fb4ff",
   "outputs": [
    {
     "name": "stdout",
     "output_type": "stream",
     "text": [
      "tensor([[0., 0., 0.],\n",
      "        [0., 0., 0.]])\n",
      "tensor([[0., 0., 0.],\n",
      "        [0., 0., 0.]])\n"
     ]
    }
   ],
   "execution_count": 55
  },
  {
   "metadata": {
    "ExecuteTime": {
     "end_time": "2024-09-23T12:31:12.315226Z",
     "start_time": "2024-09-23T12:31:12.311225Z"
    }
   },
   "cell_type": "code",
   "source": [
    "#mul()함수를 사용해서 t1과 t2의 곱을 구한다\n",
    "t7 = torch.mul(t1, t2)\n",
    "#t1과 t2의 곱을 연산자 *를 사용하여 계산한다.\n",
    "t8 = t1 * t2\n",
    "print(t7)\n",
    "print(t8)"
   ],
   "id": "50dbef8a27a84119",
   "outputs": [
    {
     "name": "stdout",
     "output_type": "stream",
     "text": [
      "tensor([[1., 1., 1.],\n",
      "        [1., 1., 1.]])\n",
      "tensor([[1., 1., 1.],\n",
      "        [1., 1., 1.]])\n"
     ]
    }
   ],
   "execution_count": 56
  },
  {
   "metadata": {
    "ExecuteTime": {
     "end_time": "2024-09-23T12:31:58.964343Z",
     "start_time": "2024-09-23T12:31:58.945338Z"
    }
   },
   "cell_type": "code",
   "source": [
    "#div()함수를 사용해서 t1과 t2의 나눗셈을 구한다\n",
    "t9 = torch.div(t1, t2)\n",
    "#t1과 t2의 나눗셈을 연산자 /를 사용하여 계산한다.\n",
    "t10 = t1 / t2\n",
    "print(t9)\n",
    "print(t10)"
   ],
   "id": "680dca2e99f4085e",
   "outputs": [
    {
     "name": "stdout",
     "output_type": "stream",
     "text": [
      "tensor([[1., 1., 1.],\n",
      "        [1., 1., 1.]])\n",
      "tensor([[1., 1., 1.],\n",
      "        [1., 1., 1.]])\n"
     ]
    }
   ],
   "execution_count": 57
  },
  {
   "metadata": {},
   "cell_type": "markdown",
   "source": " - 텐서의 덧셈, 뺄셈, 곱셈, 나눗셈을 함수와 연산자를 이용해서 계산하였다.",
   "id": "dad68f5cd783f201"
  },
  {
   "metadata": {},
   "cell_type": "markdown",
   "source": "<H1>g_tensor_operations_mm.py<H1>",
   "id": "b1e5033b1cc7e88a"
  },
  {
   "metadata": {
    "ExecuteTime": {
     "end_time": "2024-09-23T12:34:07.713360Z",
     "start_time": "2024-09-23T12:34:07.703358Z"
    }
   },
   "cell_type": "code",
   "source": "import torch",
   "id": "9e5e89b337fb4cb9",
   "outputs": [],
   "execution_count": 60
  },
  {
   "metadata": {
    "ExecuteTime": {
     "end_time": "2024-09-23T12:34:38.779613Z",
     "start_time": "2024-09-23T12:34:38.772613Z"
    }
   },
   "cell_type": "code",
   "source": [
    "#dot()함수는 두 벡터의 내적을 계산하는 함수이다.\n",
    "t1 = torch.dot(\n",
    "  torch.tensor([2, 3]), torch.tensor([2, 1])\n",
    ")\n",
    "print(t1, t1.size()) #내적의 결과와 크기를 출력한다.(내적의 크기의 경우 Size([])이다.)"
   ],
   "id": "654944edecb97780",
   "outputs": [
    {
     "name": "stdout",
     "output_type": "stream",
     "text": [
      "tensor(7) torch.Size([])\n"
     ]
    }
   ],
   "execution_count": 61
  },
  {
   "metadata": {
    "ExecuteTime": {
     "end_time": "2024-09-23T12:36:26.609620Z",
     "start_time": "2024-09-23T12:36:26.599618Z"
    }
   },
   "cell_type": "code",
   "source": [
    "t2 = torch.randn(2, 3)\n",
    "t3 = torch.randn(3, 2)\n",
    "#t4에서 mm()함수는 행렬 곱을 계산해주는 함수이다.\n",
    "t4 = torch.mm(t2, t3)\n",
    "print(t4, t4.size()) #t2와 t3의 행렬 곱의 결과는 2*2크기의 행렬이다."
   ],
   "id": "63fb3c20e3d2646",
   "outputs": [
    {
     "name": "stdout",
     "output_type": "stream",
     "text": [
      "tensor([[1.6750, 2.2840],\n",
      "        [0.0956, 1.0294]]) torch.Size([2, 2])\n"
     ]
    }
   ],
   "execution_count": 62
  },
  {
   "metadata": {
    "ExecuteTime": {
     "end_time": "2024-09-23T12:39:53.925220Z",
     "start_time": "2024-09-23T12:39:53.919218Z"
    }
   },
   "cell_type": "code",
   "source": [
    "t5 = torch.randn(10, 3, 4)\n",
    "t6 = torch.randn(10, 4, 5)\n",
    "#t7에서 bmm은 배치 행렬 곱을 계산하는 함수이다. 배치 행렬 곱의 경우 3차원 텐서 간의 행렬 곱셈을 수행한다.\n",
    "t7 = torch.bmm(t5, t6)\n",
    "print(t7.size()) # 첫 번째 차원이 배치 크기를 나타내고 각 배치에서 2차원 텐서 간의 곱셈이 진행되어 10*3*5크기의 텐서가 생성된다."
   ],
   "id": "f56c4d48d61c21e3",
   "outputs": [
    {
     "name": "stdout",
     "output_type": "stream",
     "text": [
      "torch.Size([10, 3, 5])\n"
     ]
    }
   ],
   "execution_count": 63
  },
  {
   "metadata": {},
   "cell_type": "markdown",
   "source": " - 텐서의 내적, 행렬 곱, 배치 행렬 곱을 수행하였다. ",
   "id": "2b7158aa0b616ddd"
  },
  {
   "metadata": {},
   "cell_type": "markdown",
   "source": "<H1>h_tensor_operations_matmul.py<H1>",
   "id": "18517a97f5a77eee"
  },
  {
   "metadata": {
    "ExecuteTime": {
     "end_time": "2024-09-23T12:42:08.361506Z",
     "start_time": "2024-09-23T12:42:08.355504Z"
    }
   },
   "cell_type": "code",
   "source": "import torch",
   "id": "a3992178e612a574",
   "outputs": [],
   "execution_count": 64
  },
  {
   "metadata": {
    "ExecuteTime": {
     "end_time": "2024-09-23T12:45:40.813667Z",
     "start_time": "2024-09-23T12:45:40.801664Z"
    }
   },
   "cell_type": "code",
   "source": [
    "#matmul()함수의 경우 뒤에 오는 텐서들의 조합에 따라 dot, mm, bmm이 실행될지 결정되고 이때 broadcasting이 진행된다.\n",
    "t1 = torch.randn(3)\n",
    "t2 = torch.randn(3)\n",
    "#t1과 t2의 경우 벡터 * 벡터이므로 dot연산이 진행된다.\n",
    "print(torch.matmul(t1, t2).size())"
   ],
   "id": "16c33169a6bc658",
   "outputs": [
    {
     "name": "stdout",
     "output_type": "stream",
     "text": [
      "torch.Size([])\n"
     ]
    }
   ],
   "execution_count": 65
  },
  {
   "metadata": {
    "ExecuteTime": {
     "end_time": "2024-09-23T12:46:28.459577Z",
     "start_time": "2024-09-23T12:46:28.449574Z"
    }
   },
   "cell_type": "code",
   "source": [
    "t3 = torch.randn(3, 4)\n",
    "t4 = torch.randn(4)\n",
    "#t3와 t4의 경우 matrix * vector이므로 broadcasted dot연산이 진행된다. \n",
    "print(torch.matmul(t3, t4).size()) "
   ],
   "id": "80b5a1e72b93646",
   "outputs": [
    {
     "name": "stdout",
     "output_type": "stream",
     "text": [
      "torch.Size([3])\n"
     ]
    }
   ],
   "execution_count": 66
  },
  {
   "metadata": {
    "ExecuteTime": {
     "end_time": "2024-09-23T12:48:46.377643Z",
     "start_time": "2024-09-23T12:48:46.368641Z"
    }
   },
   "cell_type": "code",
   "source": [
    "t5 = torch.randn(10, 3, 4)\n",
    "t6 = torch.randn(4)\n",
    "#t5와 t6의 경우 batched matrix * vector이므로 broadcasted dot연산이 진행된다.\n",
    "print(torch.matmul(t5, t6).size())"
   ],
   "id": "8ebc28d74e9e3154",
   "outputs": [
    {
     "name": "stdout",
     "output_type": "stream",
     "text": [
      "torch.Size([10, 3])\n"
     ]
    }
   ],
   "execution_count": 70
  },
  {
   "metadata": {
    "ExecuteTime": {
     "end_time": "2024-09-23T12:49:53.599400Z",
     "start_time": "2024-09-23T12:49:53.579396Z"
    }
   },
   "cell_type": "code",
   "source": [
    "t7 = torch.randn(10, 3, 4)\n",
    "t8 = torch.randn(10, 4, 5)\n",
    "#t7와 t8의 경우 batched matrix * batched matrix이므로 bmm연산이 진행된다. \n",
    "print(torch.matmul(t7, t8).size()) "
   ],
   "id": "2ab7ec5134b24f1d",
   "outputs": [
    {
     "name": "stdout",
     "output_type": "stream",
     "text": [
      "torch.Size([10, 3, 5])\n"
     ]
    }
   ],
   "execution_count": 71
  },
  {
   "metadata": {
    "ExecuteTime": {
     "end_time": "2024-09-23T12:52:31.284438Z",
     "start_time": "2024-09-23T12:52:31.274435Z"
    }
   },
   "cell_type": "code",
   "source": [
    "t9 = torch.randn(10, 3, 4)\n",
    "t10 = torch.randn(4, 5)\n",
    "#t9와 t10의 경우 batched matrix * matrix이므로 t10이 shape가 ([10,4,5])로 broadcasted가 된 후 bmm연산이 진행된다. \n",
    "print(torch.matmul(t9, t10).size()) "
   ],
   "id": "803247b73fc7d2cc",
   "outputs": [
    {
     "name": "stdout",
     "output_type": "stream",
     "text": [
      "torch.Size([10, 3, 5])\n"
     ]
    }
   ],
   "execution_count": 73
  },
  {
   "metadata": {},
   "cell_type": "markdown",
   "source": " - matmul연산이 텐서의 shape에 따라 어떤 연산이 진행되는지 알아보았다.",
   "id": "d6e6c3d2827aa418"
  },
  {
   "metadata": {},
   "cell_type": "markdown",
   "source": "<H1>i_tensor_broadcasting.py<H1>",
   "id": "bbd823e9d6742dfc"
  },
  {
   "metadata": {
    "ExecuteTime": {
     "end_time": "2024-09-23T12:52:28.653842Z",
     "start_time": "2024-09-23T12:52:28.644841Z"
    }
   },
   "cell_type": "code",
   "source": "import torch",
   "id": "9904a8c005a699b7",
   "outputs": [],
   "execution_count": 72
  },
  {
   "metadata": {
    "ExecuteTime": {
     "end_time": "2024-09-23T12:54:08.805766Z",
     "start_time": "2024-09-23T12:54:08.794764Z"
    }
   },
   "cell_type": "code",
   "source": [
    "t1 = torch.tensor([1.0, 2.0, 3.0])\n",
    "t2 = 2.0\n",
    "#t1과 t2의 곱은 텐서와 스칼라의 곱이니 t2가 broadcasted되어 t1에 곱해진다.\n",
    "print(t1 * t2)"
   ],
   "id": "80a37e3de5398faf",
   "outputs": [
    {
     "name": "stdout",
     "output_type": "stream",
     "text": [
      "tensor([2., 4., 6.])\n"
     ]
    }
   ],
   "execution_count": 74
  },
  {
   "metadata": {
    "ExecuteTime": {
     "end_time": "2024-09-23T12:55:01.684252Z",
     "start_time": "2024-09-23T12:55:01.668248Z"
    }
   },
   "cell_type": "code",
   "source": [
    "t3 = torch.tensor([[0, 1], [2, 4], [10, 10]])\n",
    "t4 = torch.tensor([4, 5])\n",
    "#t3과 t4의 차는 텐서와 스칼라의 차이니 t4가 broadcasted되어 t3에 뺀다.\n",
    "print(t3 - t4)"
   ],
   "id": "3a30bcd91d00b070",
   "outputs": [
    {
     "name": "stdout",
     "output_type": "stream",
     "text": [
      "tensor([[-4, -4],\n",
      "        [-2, -1],\n",
      "        [ 6,  5]])\n"
     ]
    }
   ],
   "execution_count": 75
  },
  {
   "metadata": {
    "ExecuteTime": {
     "end_time": "2024-09-23T12:56:01.095976Z",
     "start_time": "2024-09-23T12:56:01.084974Z"
    }
   },
   "cell_type": "code",
   "source": [
    "t5 = torch.tensor([[1., 2.], [3., 4.]])\n",
    "print(t5 + 2.0)  # broadcasting 되어 각 요소에 2.0 더하기\n",
    "print(t5 - 2.0)  # broadcasting 되어 각 요소에 2.0 빼기\n",
    "print(t5 * 2.0)  # broadcasting 되어 각 요소에 2.0 곱하기\n",
    "print(t5 / 2.0)  # broadcasting 되어 각 요소를 2.0으로 나누기"
   ],
   "id": "f7a9f04d84c8f8d",
   "outputs": [
    {
     "name": "stdout",
     "output_type": "stream",
     "text": [
      "tensor([[3., 4.],\n",
      "        [5., 6.]])\n",
      "tensor([[-1.,  0.],\n",
      "        [ 1.,  2.]])\n",
      "tensor([[2., 4.],\n",
      "        [6., 8.]])\n",
      "tensor([[0.5000, 1.0000],\n",
      "        [1.5000, 2.0000]])\n"
     ]
    }
   ],
   "execution_count": 76
  },
  {
   "metadata": {
    "ExecuteTime": {
     "end_time": "2024-09-23T12:56:22.062244Z",
     "start_time": "2024-09-23T12:56:22.052243Z"
    }
   },
   "cell_type": "code",
   "source": [
    "# normalize 함수: 입력을 255로 나누어 반환하는 함수\n",
    "def normalize(x):\n",
    "  return x / 255"
   ],
   "id": "32868c98fafc7411",
   "outputs": [],
   "execution_count": 77
  },
  {
   "metadata": {
    "ExecuteTime": {
     "end_time": "2024-09-23T12:57:43.993956Z",
     "start_time": "2024-09-23T12:57:43.976952Z"
    }
   },
   "cell_type": "code",
   "source": [
    "t6 = torch.randn(3, 28, 28)\n",
    "#normalize함수에 들어가도 broadcasting이 되어 각 요소에 255가 나누어 진다. 그래서 shape의 변화가 없다.\n",
    "print(normalize(t6).size())"
   ],
   "id": "c8a84449a05e9a14",
   "outputs": [
    {
     "name": "stdout",
     "output_type": "stream",
     "text": [
      "torch.Size([3, 28, 28])\n"
     ]
    }
   ],
   "execution_count": 78
  },
  {
   "metadata": {
    "ExecuteTime": {
     "end_time": "2024-09-23T12:59:01.158476Z",
     "start_time": "2024-09-23T12:59:01.142473Z"
    }
   },
   "cell_type": "code",
   "source": [
    "#추가 구문\n",
    "t6_add = torch.randn(1, 2, 3)\n",
    "print(t6_add)\n",
    "#normalize가 각 요소가 255로 나누어지는 지 확인\n",
    "print(normalize(t6_add))"
   ],
   "id": "6ae899a1cf6cc21c",
   "outputs": [
    {
     "name": "stdout",
     "output_type": "stream",
     "text": [
      "tensor([[[-0.3289,  0.4161, -0.0105],\n",
      "         [-0.3281,  0.5704,  0.3084]]])\n",
      "tensor([[[-1.2897e-03,  1.6317e-03, -4.1068e-05],\n",
      "         [-1.2867e-03,  2.2368e-03,  1.2093e-03]]])\n"
     ]
    }
   ],
   "execution_count": 79
  },
  {
   "metadata": {
    "ExecuteTime": {
     "end_time": "2024-09-23T13:02:15.373400Z",
     "start_time": "2024-09-23T13:02:15.359398Z"
    }
   },
   "cell_type": "code",
   "source": [
    "t7 = torch.tensor([[1, 2], [0, 3]])  # torch.Size([2, 2])\n",
    "t8 = torch.tensor([[3, 1]])          # torch.Size([1, 2])\n",
    "t9 = torch.tensor([[5], [2]])        # torch.Size([2, 1])\n",
    "t10 = torch.tensor([7])              # torch.Size([1])\n",
    "print(t7 + t8)                       # t8이 [1,2]이 [2,2]로 broadcasting되어 연산 진행된다.\n",
    "print(t7 + t9)                       # t9이 [2,1]이 [2,2]로 broadcasting되어 연산 진행된다.\n",
    "print(t8 + t9)                       # t8이 [1,2]이 [2,2]로 broadcasting되어, t9이 [2,1]이 [2,2]로 broadcasting되어 덧셈이 진행된다.\n",
    "print(t7 + t10)                      # t10이 [1]이 [2,2]로 broadcasting되어 덧셈이 진행된다."
   ],
   "id": "96c9af33c32d6b7",
   "outputs": [
    {
     "name": "stdout",
     "output_type": "stream",
     "text": [
      "tensor([[4, 3],\n",
      "        [3, 4]])\n",
      "tensor([[6, 7],\n",
      "        [2, 5]])\n",
      "tensor([[8, 6],\n",
      "        [5, 3]])\n",
      "tensor([[ 8,  9],\n",
      "        [ 7, 10]])\n"
     ]
    }
   ],
   "execution_count": 80
  },
  {
   "metadata": {
    "ExecuteTime": {
     "end_time": "2024-09-23T13:04:09.433045Z",
     "start_time": "2024-09-23T13:04:09.417043Z"
    }
   },
   "cell_type": "code",
   "source": [
    "t11 = torch.ones(4, 3, 2)\n",
    "t12 = t11 * torch.rand(3, 2)\n",
    "#torch.rand(3,2)이 [4,3,2]로 broadcasting되어 곱셈 연산이 진행되어 t12의 shape가 [4,3,2]이다.\n",
    "print(t12.shape)  "
   ],
   "id": "3242fc7225e45937",
   "outputs": [
    {
     "name": "stdout",
     "output_type": "stream",
     "text": [
      "torch.Size([4, 3, 2])\n"
     ]
    }
   ],
   "execution_count": 81
  },
  {
   "metadata": {
    "ExecuteTime": {
     "end_time": "2024-09-23T13:05:56.634424Z",
     "start_time": "2024-09-23T13:05:56.620421Z"
    }
   },
   "cell_type": "code",
   "source": [
    "t13 = torch.ones(4, 3, 2)\n",
    "t14 = t13 * torch.rand(3, 1) \n",
    "#torch.rand(3,1)이 [4,3,2]로 broadcasting되어 곱셈 연산이 진행되어 t14의 shape가 [4,3,2]이다.\n",
    "print(t14.shape)  "
   ],
   "id": "21b96278955a98d2",
   "outputs": [
    {
     "name": "stdout",
     "output_type": "stream",
     "text": [
      "torch.Size([4, 3, 2])\n"
     ]
    }
   ],
   "execution_count": 82
  },
  {
   "metadata": {
    "ExecuteTime": {
     "end_time": "2024-09-23T13:06:30.231536Z",
     "start_time": "2024-09-23T13:06:30.225536Z"
    }
   },
   "cell_type": "code",
   "source": [
    "t15 = torch.ones(4, 3, 2)\n",
    "t16 = t15 * torch.rand(1, 2) \n",
    "#torch.rand(1,2)이 [4,3,2]로 broadcasting되어 곱셈 연산이 진행되어 t16의 shape가 [4,3,2]이다.\n",
    "print(t16.shape)"
   ],
   "id": "265af5003b4bd1e8",
   "outputs": [
    {
     "name": "stdout",
     "output_type": "stream",
     "text": [
      "torch.Size([4, 3, 2])\n"
     ]
    }
   ],
   "execution_count": 83
  },
  {
   "metadata": {
    "ExecuteTime": {
     "end_time": "2024-09-23T13:07:29.548607Z",
     "start_time": "2024-09-23T13:07:29.535605Z"
    }
   },
   "cell_type": "code",
   "source": [
    "t17 = torch.ones(5, 3, 4, 1)            # 4차원 텐서\n",
    "t18 = torch.rand(3, 1, 1)               # 3차원 텐서\n",
    "#t18이 3차원 텐서인데 4차원 텐서로 broadcasting되어 덧셈이 진행된다.\n",
    "print((t17 + t18).size()) "
   ],
   "id": "104a935b3c30aff7",
   "outputs": [
    {
     "name": "stdout",
     "output_type": "stream",
     "text": [
      "torch.Size([5, 3, 4, 1])\n"
     ]
    }
   ],
   "execution_count": 85
  },
  {
   "metadata": {
    "ExecuteTime": {
     "end_time": "2024-09-23T13:08:58.293139Z",
     "start_time": "2024-09-23T13:08:58.284139Z"
    }
   },
   "cell_type": "code",
   "source": [
    "t19 = torch.empty(5, 1, 4, 1)           # 4차원 텐서\n",
    "t20 = torch.empty(3, 1, 1)              # 3차원 텐서\n",
    "#t20이 3차원 텐서인데 4차원 텐서로 broadcasting되어 덧셈이 진행된다.\n",
    "print((t19 + t20).size())  "
   ],
   "id": "941e81ff01fa498a",
   "outputs": [
    {
     "name": "stdout",
     "output_type": "stream",
     "text": [
      "torch.Size([5, 3, 4, 1])\n"
     ]
    }
   ],
   "execution_count": 86
  },
  {
   "metadata": {
    "ExecuteTime": {
     "end_time": "2024-09-23T13:09:24.256931Z",
     "start_time": "2024-09-23T13:09:24.239927Z"
    }
   },
   "cell_type": "code",
   "source": [
    "t21 = torch.empty(1)                     # 스칼라 텐서\n",
    "t22 = torch.empty(3, 1, 7)               # 3차원 텐서\n",
    "#t20이 스칼라인데 3차원 텐서로 broadcasting되어 덧셈이 진행된다.\n",
    "print((t21 + t22).size())  "
   ],
   "id": "8fe8c997c3db3685",
   "outputs": [
    {
     "name": "stdout",
     "output_type": "stream",
     "text": [
      "torch.Size([3, 1, 7])\n"
     ]
    }
   ],
   "execution_count": 87
  },
  {
   "metadata": {
    "ExecuteTime": {
     "end_time": "2024-09-23T13:10:06.005434Z",
     "start_time": "2024-09-23T13:10:05.992431Z"
    }
   },
   "cell_type": "code",
   "source": [
    "t23 = torch.ones(3, 3, 3)                # 3차원 텐서\n",
    "t24 = torch.ones(3, 1, 3)                # 3차원 텐서\n",
    "#이 경우 t23과 t24가 차원은 3차원으로 같지만 크기가 같지 않아서 크기를 같게 broadcasting해준 뒤 덧셈이 진행된다.\n",
    "print((t23 + t24).size()) "
   ],
   "id": "fa64294648b1f70d",
   "outputs": [
    {
     "name": "stdout",
     "output_type": "stream",
     "text": [
      "torch.Size([3, 3, 3])\n"
     ]
    }
   ],
   "execution_count": 88
  },
  {
   "metadata": {
    "ExecuteTime": {
     "end_time": "2024-09-23T13:11:18.822917Z",
     "start_time": "2024-09-23T13:11:18.804913Z"
    }
   },
   "cell_type": "code",
   "source": [
    "# t27: 1차원 텐서에 모든 요소에 5 곱한다\n",
    "t27 = torch.ones(4) * 5\n",
    "print(t27)  # tensor([ 5., 5., 5., 5.])"
   ],
   "id": "deae76f328f2d334",
   "outputs": [
    {
     "name": "stdout",
     "output_type": "stream",
     "text": [
      "tensor([5., 5., 5., 5.])\n"
     ]
    }
   ],
   "execution_count": 89
  },
  {
   "metadata": {
    "ExecuteTime": {
     "end_time": "2024-09-23T13:11:32.042895Z",
     "start_time": "2024-09-23T13:11:32.036894Z"
    }
   },
   "cell_type": "code",
   "source": [
    "# t28은 t27의 각 요소를 제곱해 주었다\n",
    "t28 = torch.pow(t27, 2)\n",
    "print(t28)  # tensor([ 25., 25., 25., 25.])"
   ],
   "id": "6587900aedf73ee3",
   "outputs": [
    {
     "name": "stdout",
     "output_type": "stream",
     "text": [
      "tensor([25., 25., 25., 25.])\n"
     ]
    }
   ],
   "execution_count": 90
  },
  {
   "metadata": {
    "ExecuteTime": {
     "end_time": "2024-09-23T13:13:08.324138Z",
     "start_time": "2024-09-23T13:13:08.311135Z"
    }
   },
   "cell_type": "code",
   "source": [
    "exp = torch.arange(1., 5.)  # tensor([ 1.,  2.,  3.,  4.])\n",
    "a = torch.arange(1., 5.)    # tensor([ 1.,  2.,  3.,  4.])\n",
    "t29 = torch.pow(a, exp)     # a의 각 요소를 exp의 각 요소로 제곱하였다.\n",
    "print(t29)"
   ],
   "id": "6ab7c361037e37e2",
   "outputs": [
    {
     "name": "stdout",
     "output_type": "stream",
     "text": [
      "tensor([  1.,   4.,  27., 256.])\n"
     ]
    }
   ],
   "execution_count": 93
  },
  {
   "metadata": {},
   "cell_type": "markdown",
   "source": " - broadcasting이 어떻게 진행되는지 알아보는 코드를 작성하였다.",
   "id": "d11f797fc48fa926"
  },
  {
   "metadata": {},
   "cell_type": "markdown",
   "source": "<H1>j_tensor_indexing_slicing.py<H1>",
   "id": "7144126649e7911e"
  },
  {
   "metadata": {
    "ExecuteTime": {
     "end_time": "2024-09-23T13:14:24.616558Z",
     "start_time": "2024-09-23T13:14:24.611557Z"
    }
   },
   "cell_type": "code",
   "source": "import torch",
   "id": "7cf8b4d6b4b3d1a7",
   "outputs": [],
   "execution_count": 94
  },
  {
   "metadata": {
    "ExecuteTime": {
     "end_time": "2024-09-23T13:14:44.779114Z",
     "start_time": "2024-09-23T13:14:44.769112Z"
    }
   },
   "cell_type": "code",
   "source": [
    "x = torch.tensor(\n",
    "  [[0, 1, 2, 3, 4],\n",
    "   [5, 6, 7, 8, 9],\n",
    "   [10, 11, 12, 13, 14]]\n",
    ")"
   ],
   "id": "429ad9f17f5958cf",
   "outputs": [],
   "execution_count": 95
  },
  {
   "metadata": {
    "ExecuteTime": {
     "end_time": "2024-09-23T13:17:18.635779Z",
     "start_time": "2024-09-23T13:17:18.616775Z"
    }
   },
   "cell_type": "code",
   "source": [
    "print(x[1])         #x의 첫 번째 차원에 인덱스가 1인 요소들을 출력한다.\n",
    "print(x[:, 1])      #x의 첫 번째 차원은 전부 가져오고, 두 번째 차원에서 인덱스가 1에 해당하는 요소들만 출력한다.\n",
    "print(x[1, 2])      #x의 첫 번째 차원에 인덱스가 1이고 두 번째 차원에서 인덱스가 2에 해당하는 요소를 출력한다.\n",
    "print(x[:, -1])     #x의 첫 번째 차원은 전부 가져오고, 두 번째 차원에서 마지막 인덱스에 해당하는 요소들만 출력한다."
   ],
   "id": "f8f2fd3db6185718",
   "outputs": [
    {
     "name": "stdout",
     "output_type": "stream",
     "text": [
      "tensor([5, 6, 7, 8, 9])\n",
      "tensor([ 1,  6, 11])\n",
      "tensor(7)\n",
      "tensor([ 4,  9, 14])\n"
     ]
    }
   ],
   "execution_count": 96
  },
  {
   "metadata": {
    "ExecuteTime": {
     "end_time": "2024-09-23T13:18:19.269755Z",
     "start_time": "2024-09-23T13:18:19.259753Z"
    }
   },
   "cell_type": "code",
   "source": "print(x[1:]) # 1행부터 끝까지의 모든 요소를 출력한다.",
   "id": "964e5ccbc0ee76dc",
   "outputs": [
    {
     "name": "stdout",
     "output_type": "stream",
     "text": [
      "tensor([[ 5,  6,  7,  8,  9],\n",
      "        [10, 11, 12, 13, 14]])\n"
     ]
    }
   ],
   "execution_count": 97
  },
  {
   "metadata": {
    "ExecuteTime": {
     "end_time": "2024-09-23T13:19:28.940722Z",
     "start_time": "2024-09-23T13:19:28.924718Z"
    }
   },
   "cell_type": "code",
   "source": "print(x[1:, 3:]) # 1행부터 끝까지의 3열부터 끝까지의 요소를 출력한다.",
   "id": "1d9d0af6f86e5e33",
   "outputs": [
    {
     "name": "stdout",
     "output_type": "stream",
     "text": [
      "tensor([[ 8,  9],\n",
      "        [13, 14]])\n"
     ]
    }
   ],
   "execution_count": 98
  },
  {
   "metadata": {
    "ExecuteTime": {
     "end_time": "2024-09-23T13:19:37.971540Z",
     "start_time": "2024-09-23T13:19:37.956537Z"
    }
   },
   "cell_type": "code",
   "source": [
    "y = torch.zeros((6, 6))\n",
    "# y의 1열에서 3열까지의 2번째 열에 1 할당한다.\n",
    "y[1:4, 2] = 1\n",
    "print(y)"
   ],
   "id": "7e95366c7a75b23f",
   "outputs": [
    {
     "name": "stdout",
     "output_type": "stream",
     "text": [
      "tensor([[0., 0., 0., 0., 0., 0.],\n",
      "        [0., 0., 1., 0., 0., 0.],\n",
      "        [0., 0., 1., 0., 0., 0.],\n",
      "        [0., 0., 1., 0., 0., 0.],\n",
      "        [0., 0., 0., 0., 0., 0.],\n",
      "        [0., 0., 0., 0., 0., 0.]])\n"
     ]
    }
   ],
   "execution_count": 99
  },
  {
   "metadata": {
    "ExecuteTime": {
     "end_time": "2024-09-23T13:21:37.112468Z",
     "start_time": "2024-09-23T13:21:37.098465Z"
    }
   },
   "cell_type": "code",
   "source": "print(y[1:4, 1:4]) # y의 1행부터 3행까지, 1열부터 3열까지 슬라이싱하여 출력한다.",
   "id": "f7e77ffb0f0a2736",
   "outputs": [
    {
     "name": "stdout",
     "output_type": "stream",
     "text": [
      "tensor([[0., 1., 0.],\n",
      "        [0., 1., 0.],\n",
      "        [0., 1., 0.]])\n"
     ]
    }
   ],
   "execution_count": 100
  },
  {
   "metadata": {
    "ExecuteTime": {
     "end_time": "2024-09-23T13:21:47.453114Z",
     "start_time": "2024-09-23T13:21:47.443112Z"
    }
   },
   "cell_type": "code",
   "source": [
    "z = torch.tensor(\n",
    "  [[1, 2, 3, 4],\n",
    "   [2, 3, 4, 5],\n",
    "   [5, 6, 7, 8]]\n",
    ")"
   ],
   "id": "642586e5c168f79f",
   "outputs": [],
   "execution_count": 101
  },
  {
   "metadata": {
    "ExecuteTime": {
     "end_time": "2024-09-23T13:22:10.073428Z",
     "start_time": "2024-09-23T13:22:10.063922Z"
    }
   },
   "cell_type": "code",
   "source": "print(z[:2]) #z의 0행부터 1행까지 슬라이싱하여 출력한다.",
   "id": "96a511ee5469bb89",
   "outputs": [
    {
     "name": "stdout",
     "output_type": "stream",
     "text": [
      "tensor([[1, 2, 3, 4],\n",
      "        [2, 3, 4, 5]])\n"
     ]
    }
   ],
   "execution_count": 102
  },
  {
   "metadata": {
    "ExecuteTime": {
     "end_time": "2024-09-23T13:22:25.041998Z",
     "start_time": "2024-09-23T13:22:25.024994Z"
    }
   },
   "cell_type": "code",
   "source": "print(z[1:, 1:3]) #z의 1행부터 끝까지, 1열부터 2열까지 슬라이싱하여 출력한다.",
   "id": "3ca01d53119b1db9",
   "outputs": [
    {
     "name": "stdout",
     "output_type": "stream",
     "text": [
      "tensor([[3, 4],\n",
      "        [6, 7]])\n"
     ]
    }
   ],
   "execution_count": 103
  },
  {
   "metadata": {
    "ExecuteTime": {
     "end_time": "2024-09-23T13:22:44.910412Z",
     "start_time": "2024-09-23T13:22:44.902410Z"
    }
   },
   "cell_type": "code",
   "source": "print(z[:, 1:]) #z의 모든 행에서 1열부터 끝까지 슬라이싱하여 출력한다.",
   "id": "f78a97300f0c0afd",
   "outputs": [
    {
     "name": "stdout",
     "output_type": "stream",
     "text": [
      "tensor([[2, 3, 4],\n",
      "        [3, 4, 5],\n",
      "        [6, 7, 8]])\n"
     ]
    }
   ],
   "execution_count": 104
  },
  {
   "metadata": {
    "ExecuteTime": {
     "end_time": "2024-09-23T13:23:19.640785Z",
     "start_time": "2024-09-23T13:23:19.636784Z"
    }
   },
   "cell_type": "code",
   "source": [
    "z[1:, 1:3] = 0 #z의 1행부터 끝까지의 1열과 2열에 0 할당한다.\n",
    "print(z)"
   ],
   "id": "e264fd2e55fbb8d4",
   "outputs": [
    {
     "name": "stdout",
     "output_type": "stream",
     "text": [
      "tensor([[1, 2, 3, 4],\n",
      "        [2, 0, 0, 5],\n",
      "        [5, 0, 0, 8]])\n"
     ]
    }
   ],
   "execution_count": 105
  },
  {
   "metadata": {},
   "cell_type": "markdown",
   "source": " - 텐서의 slicing 기술을 이용해서 수를 할당하거나 해당하는 행과 열을 가져오는 코드를 수행하였다.",
   "id": "58a8b5101efed50d"
  },
  {
   "metadata": {},
   "cell_type": "markdown",
   "source": "<H1>k_tensor_reshaping.py<H1>",
   "id": "9717c1e42f4b0deb"
  },
  {
   "metadata": {
    "ExecuteTime": {
     "end_time": "2024-09-23T13:24:49.961660Z",
     "start_time": "2024-09-23T13:24:49.953657Z"
    }
   },
   "cell_type": "code",
   "source": "import torch",
   "id": "e0a95c07eddfddd1",
   "outputs": [],
   "execution_count": 106
  },
  {
   "metadata": {
    "ExecuteTime": {
     "end_time": "2024-09-23T13:27:08.720883Z",
     "start_time": "2024-09-23T13:27:08.707301Z"
    }
   },
   "cell_type": "code",
   "source": [
    "t1 = torch.tensor([[1, 2, 3], [4, 5, 6]])   # Shape가 (2, 3)이다. \n",
    "t2 = t1.view(3, 2)                          # Shape를 (3,2)로 변경한다.\n",
    "t3 = t1.reshape(1, 6)                       # Shape를 (1,6)로 변경한다.\n",
    "print(t2)\n",
    "print(t3)"
   ],
   "id": "571bc08cacf477a5",
   "outputs": [
    {
     "name": "stdout",
     "output_type": "stream",
     "text": [
      "tensor([[1, 2],\n",
      "        [3, 4],\n",
      "        [5, 6]])\n",
      "tensor([[1, 2, 3, 4, 5, 6]])\n"
     ]
    }
   ],
   "execution_count": 108
  },
  {
   "metadata": {
    "ExecuteTime": {
     "end_time": "2024-09-23T13:27:57.975973Z",
     "start_time": "2024-09-23T13:27:57.957969Z"
    }
   },
   "cell_type": "code",
   "source": [
    "t6 = torch.tensor([[[1], [2], [3]]]) #Shape가 (1, 3, 1)이다\n",
    "print(t6.shape)"
   ],
   "id": "fdd1499ea55bceb7",
   "outputs": [
    {
     "name": "stdout",
     "output_type": "stream",
     "text": [
      "torch.Size([1, 3, 1])\n"
     ]
    }
   ],
   "execution_count": 109
  },
  {
   "metadata": {
    "ExecuteTime": {
     "end_time": "2024-09-23T13:30:18.190986Z",
     "start_time": "2024-09-23T13:30:18.173982Z"
    }
   },
   "cell_type": "code",
   "source": [
    "t7 = t6.squeeze()       #매개변수가 비어 있으면 크기가 1인 모든 차원을 삭제한다.\n",
    "t8 = t6.squeeze(0)      #첫번째 차원을 삭제한다.\n",
    "print(t7)               #Shape가 (3)이다.\n",
    "print(t7.shape)\n",
    "print(t8)               #Shape가 (3,1)이다.\n",
    "print(t8.shape)"
   ],
   "id": "623525d9e646c62a",
   "outputs": [
    {
     "name": "stdout",
     "output_type": "stream",
     "text": [
      "tensor([1, 2, 3])\n",
      "torch.Size([3])\n",
      "tensor([[1],\n",
      "        [2],\n",
      "        [3]])\n",
      "torch.Size([3, 1])\n"
     ]
    }
   ],
   "execution_count": 111
  },
  {
   "metadata": {
    "ExecuteTime": {
     "end_time": "2024-09-23T13:31:58.057593Z",
     "start_time": "2024-09-23T13:31:58.043589Z"
    }
   },
   "cell_type": "code",
   "source": [
    "t9 = torch.tensor([1, 2, 3]) #shape가 (3)이다.\n",
    "t10 = t9.unsqueeze(1)        #위치가 1인곳에 새로운 차원을 추가한다.\n",
    "print(t10)                   #shape가 (3,1)이다."
   ],
   "id": "fa6473933b863b67",
   "outputs": [
    {
     "name": "stdout",
     "output_type": "stream",
     "text": [
      "tensor([[1],\n",
      "        [2],\n",
      "        [3]])\n"
     ]
    }
   ],
   "execution_count": 112
  },
  {
   "metadata": {
    "ExecuteTime": {
     "end_time": "2024-09-23T13:33:23.120391Z",
     "start_time": "2024-09-23T13:33:23.105390Z"
    }
   },
   "cell_type": "code",
   "source": [
    "t11 = torch.tensor(     #shape가 (2,3)이다.\n",
    "  [[1, 2, 3],\n",
    "   [4, 5, 6]]\n",
    ")\n",
    "t12 = t11.unsqueeze(1)  #위치가 1인곳에 새로운 차원을 추가한다. 이러면 t12의 shape는 (2, 1, 3)이다.\n",
    "print(t12, t12.shape)"
   ],
   "id": "84393a785bb57869",
   "outputs": [
    {
     "name": "stdout",
     "output_type": "stream",
     "text": [
      "tensor([[[1, 2, 3]],\n",
      "\n",
      "        [[4, 5, 6]]]) torch.Size([2, 1, 3])\n"
     ]
    }
   ],
   "execution_count": 113
  },
  {
   "metadata": {
    "ExecuteTime": {
     "end_time": "2024-09-23T13:35:05.971788Z",
     "start_time": "2024-09-23T13:35:05.967788Z"
    }
   },
   "cell_type": "code",
   "source": [
    "t13 = torch.tensor([[1, 2, 3], [4, 5, 6]])\n",
    "t14 = t13.flatten() #flatten()함수는 매개변수가 없으면 1차원 텐서로 만들어 준다.\n",
    "print(t14)"
   ],
   "id": "ccc254c205633c04",
   "outputs": [
    {
     "name": "stdout",
     "output_type": "stream",
     "text": [
      "tensor([1, 2, 3, 4, 5, 6])\n"
     ]
    }
   ],
   "execution_count": 114
  },
  {
   "metadata": {
    "ExecuteTime": {
     "end_time": "2024-09-23T13:36:25.544323Z",
     "start_time": "2024-09-23T13:36:25.528317Z"
    }
   },
   "cell_type": "code",
   "source": [
    "#추가 코드\n",
    "t13_add = torch.tensor([[[[2,3],[4,2]],[[4,5],[6,7]]]])\n",
    "t14_add = t13_add.flatten() #2차원 뿐만 아니라 3차원 그 이상도 1차원 텐서로 만들어 준다\n",
    "print(t14_add)"
   ],
   "id": "59ff609a7737d105",
   "outputs": [
    {
     "name": "stdout",
     "output_type": "stream",
     "text": [
      "tensor([2, 3, 4, 2, 4, 5, 6, 7])\n"
     ]
    }
   ],
   "execution_count": 117
  },
  {
   "metadata": {
    "ExecuteTime": {
     "end_time": "2024-09-23T13:39:13.940200Z",
     "start_time": "2024-09-23T13:39:13.926196Z"
    }
   },
   "cell_type": "code",
   "source": [
    "t15 = torch.tensor([[[1, 2],\n",
    "                     [3, 4]],\n",
    "                    [[5, 6],\n",
    "                     [7, 8]]])\n",
    "t16 = torch.flatten(t15) #t15를 1차원 텐서로 만들어 준다.\n",
    "\n",
    "t17 = torch.flatten(t15, start_dim=1) #t15에서 두 번째 차원부터 1차원으로 변환한다.\n",
    "print(t16)\n",
    "print(t17)"
   ],
   "id": "9159b00d7ed0fb8a",
   "outputs": [
    {
     "name": "stdout",
     "output_type": "stream",
     "text": [
      "tensor([1, 2, 3, 4, 5, 6, 7, 8])\n",
      "tensor([[1, 2, 3, 4],\n",
      "        [5, 6, 7, 8]])\n"
     ]
    }
   ],
   "execution_count": 118
  },
  {
   "metadata": {
    "ExecuteTime": {
     "end_time": "2024-09-23T13:39:34.409680Z",
     "start_time": "2024-09-23T13:39:34.404678Z"
    }
   },
   "cell_type": "code",
   "source": [
    "#추가 코드\n",
    "t17_add = torch.flatten(t15, start_dim=0, end_dim=1) #t15에서 첫 번째 차원부터 두 번째 차원까지만 1차원으로 변환한다.\n",
    "print(t17_add)"
   ],
   "id": "f93586cc3fb78239",
   "outputs": [
    {
     "name": "stdout",
     "output_type": "stream",
     "text": [
      "tensor([[1, 2],\n",
      "        [3, 4],\n",
      "        [5, 6],\n",
      "        [7, 8]])\n"
     ]
    }
   ],
   "execution_count": 119
  },
  {
   "metadata": {
    "ExecuteTime": {
     "end_time": "2024-09-23T13:40:35.015746Z",
     "start_time": "2024-09-23T13:40:35.004744Z"
    }
   },
   "cell_type": "code",
   "source": [
    "t18 = torch.randn(2, 3, 5)\n",
    "print(t18.shape)  # >>> torch.Size([2, 3, 5])\n",
    "print(torch.permute(t18, (2, 0, 1)).size()) #permute()함수는 t18의 차원을 (2, 0, 1)순서로 변경한다."
   ],
   "id": "de94b77c5202be1a",
   "outputs": [
    {
     "name": "stdout",
     "output_type": "stream",
     "text": [
      "torch.Size([2, 3, 5])\n",
      "torch.Size([5, 2, 3])\n"
     ]
    }
   ],
   "execution_count": 120
  },
  {
   "metadata": {
    "ExecuteTime": {
     "end_time": "2024-09-23T13:43:09.470440Z",
     "start_time": "2024-09-23T13:43:09.461105Z"
    }
   },
   "cell_type": "code",
   "source": [
    "t19 = torch.tensor([[1, 2, 3], [4, 5, 6]])\n",
    "t20 = torch.permute(t19, dims=(0, 1)) # t19의 차원을 변경 (0, 1)으로 permute, 형태는 (2, 3) 그대로 유지된다.\n",
    "t21 = torch.permute(t19, dims=(1, 0)) # t19의 차원을 변경 (1, 0)으로 permute, 형태가 (3, 2)로 변환된다.\n",
    "print(t20)\n",
    "print(t21)"
   ],
   "id": "e9e910f1df981f6d",
   "outputs": [
    {
     "name": "stdout",
     "output_type": "stream",
     "text": [
      "tensor([[1, 2, 3],\n",
      "        [4, 5, 6]])\n",
      "tensor([[1, 4],\n",
      "        [2, 5],\n",
      "        [3, 6]])\n"
     ]
    }
   ],
   "execution_count": 121
  },
  {
   "metadata": {
    "ExecuteTime": {
     "end_time": "2024-09-23T13:44:22.816126Z",
     "start_time": "2024-09-23T13:44:22.808123Z"
    }
   },
   "cell_type": "code",
   "source": [
    "t22 = torch.transpose(t19, 0, 1) #transpose()함수는 차원 2개를 전치하는 함수이다.\n",
    "print(t22)  "
   ],
   "id": "edc6e87ca04f715d",
   "outputs": [
    {
     "name": "stdout",
     "output_type": "stream",
     "text": [
      "tensor([[1, 4],\n",
      "        [2, 5],\n",
      "        [3, 6]])\n"
     ]
    }
   ],
   "execution_count": 122
  },
  {
   "metadata": {
    "ExecuteTime": {
     "end_time": "2024-09-23T13:44:47.228201Z",
     "start_time": "2024-09-23T13:44:47.221199Z"
    }
   },
   "cell_type": "code",
   "source": [
    "t23 = torch.t(t19)  ## 2D 텐서의 경우 torch.transpose와 동일하게 작동한다.\n",
    "print(t23)"
   ],
   "id": "5364c784fa270c68",
   "outputs": [
    {
     "name": "stdout",
     "output_type": "stream",
     "text": [
      "tensor([[1, 4],\n",
      "        [2, 5],\n",
      "        [3, 6]])\n"
     ]
    }
   ],
   "execution_count": 123
  },
  {
   "metadata": {},
   "cell_type": "markdown",
   "source": "  - 텐서의 shape를 변경할 수 있는 함수들을 사용하였다.",
   "id": "71421b383a6e409"
  },
  {
   "metadata": {},
   "cell_type": "markdown",
   "source": "<H1>l_tensor_concat.py<H1>",
   "id": "bc9ad3efa0f634c"
  },
  {
   "metadata": {
    "ExecuteTime": {
     "end_time": "2024-09-23T13:46:16.681145Z",
     "start_time": "2024-09-23T13:46:16.663142Z"
    }
   },
   "cell_type": "code",
   "source": "import torch",
   "id": "abbfb18a60b7ca1a",
   "outputs": [],
   "execution_count": 124
  },
  {
   "metadata": {
    "ExecuteTime": {
     "end_time": "2024-09-23T13:46:24.218558Z",
     "start_time": "2024-09-23T13:46:24.208555Z"
    }
   },
   "cell_type": "code",
   "source": [
    "t1 = torch.zeros([2, 1, 3])\n",
    "t2 = torch.zeros([2, 3, 3])\n",
    "t3 = torch.zeros([2, 2, 3])"
   ],
   "id": "e0ba64bf67d3d6a1",
   "outputs": [],
   "execution_count": 125
  },
  {
   "metadata": {
    "ExecuteTime": {
     "end_time": "2024-09-23T13:48:26.406201Z",
     "start_time": "2024-09-23T13:48:26.403201Z"
    }
   },
   "cell_type": "code",
   "source": [
    "t4 = torch.cat([t1, t2, t3], dim=1) #cat()함수의 경우 특정 차원을 기준으로 연결을 해주는 함수이다.\n",
    "#t4는 1차원을 기준으로 t1, t2, t3를 합친다. 그래서 0차원과 2차원은 크기가 고정되고 1차원이 1+3+2로 크기가 6이 된다.\n",
    "print(t4.shape)"
   ],
   "id": "87d5f37cf17679cd",
   "outputs": [
    {
     "name": "stdout",
     "output_type": "stream",
     "text": [
      "torch.Size([2, 6, 3])\n"
     ]
    }
   ],
   "execution_count": 126
  },
  {
   "metadata": {
    "ExecuteTime": {
     "end_time": "2024-09-23T13:49:16.350060Z",
     "start_time": "2024-09-23T13:49:16.346059Z"
    }
   },
   "cell_type": "code",
   "source": [
    "t5 = torch.arange(0, 3)  # tensor([0, 1, 2])\n",
    "t6 = torch.arange(3, 8)  # tensor([3, 4, 5, 6, 7])\n",
    "t7 = torch.cat((t5, t6), dim=0) #첫 번째 차원을 기준으로 하여 t5, t6를 연결한다.\n",
    "print(t7.shape)\n",
    "print(t7) "
   ],
   "id": "8cf10d5fd2863e65",
   "outputs": [
    {
     "name": "stdout",
     "output_type": "stream",
     "text": [
      "torch.Size([8])\n",
      "tensor([0, 1, 2, 3, 4, 5, 6, 7])\n"
     ]
    }
   ],
   "execution_count": 127
  },
  {
   "metadata": {
    "ExecuteTime": {
     "end_time": "2024-09-23T13:49:55.864255Z",
     "start_time": "2024-09-23T13:49:55.855254Z"
    }
   },
   "cell_type": "code",
   "source": [
    "t8 = torch.arange(0, 6).reshape(2, 3)\n",
    "t9 = torch.arange(6, 12).reshape(2, 3) \n",
    "t10 = torch.cat((t8, t9), dim=0) # 0차원을 기준으로 하여 t8, t9를 연결한다.\n",
    "print(t10.size())\n",
    "print(t10)"
   ],
   "id": "9412d6f781feeb8b",
   "outputs": [
    {
     "name": "stdout",
     "output_type": "stream",
     "text": [
      "torch.Size([4, 3])\n",
      "tensor([[ 0,  1,  2],\n",
      "        [ 3,  4,  5],\n",
      "        [ 6,  7,  8],\n",
      "        [ 9, 10, 11]])\n"
     ]
    }
   ],
   "execution_count": 128
  },
  {
   "metadata": {
    "ExecuteTime": {
     "end_time": "2024-09-23T13:50:54.779311Z",
     "start_time": "2024-09-23T13:50:54.773311Z"
    }
   },
   "cell_type": "code",
   "source": [
    "t11 = torch.cat((t8, t9), dim=1) # 1차원을 기준으로 하여 t8, t9를 연결한다.\n",
    "print(t11.size())\n",
    "print(t11)"
   ],
   "id": "768a1286c2d1b56d",
   "outputs": [
    {
     "name": "stdout",
     "output_type": "stream",
     "text": [
      "torch.Size([2, 6])\n",
      "tensor([[ 0,  1,  2,  6,  7,  8],\n",
      "        [ 3,  4,  5,  9, 10, 11]])\n"
     ]
    }
   ],
   "execution_count": 129
  },
  {
   "metadata": {
    "ExecuteTime": {
     "end_time": "2024-09-23T13:52:17.533564Z",
     "start_time": "2024-09-23T13:52:17.525562Z"
    }
   },
   "cell_type": "code",
   "source": [
    "t12 = torch.arange(0, 6).reshape(2, 3)\n",
    "t13 = torch.arange(6, 12).reshape(2, 3)\n",
    "t14 = torch.arange(12, 18).reshape(2, 3)\n",
    "t15 = torch.cat((t12, t13, t14), dim=0) # 0차원을 기준으로 하여 t12, t13, t14를 연결한다.\n",
    "print(t15.size())\n",
    "print(t15)"
   ],
   "id": "f61bc66b9db42a00",
   "outputs": [
    {
     "name": "stdout",
     "output_type": "stream",
     "text": [
      "torch.Size([6, 3])\n",
      "tensor([[ 0,  1,  2],\n",
      "        [ 3,  4,  5],\n",
      "        [ 6,  7,  8],\n",
      "        [ 9, 10, 11],\n",
      "        [12, 13, 14],\n",
      "        [15, 16, 17]])\n"
     ]
    }
   ],
   "execution_count": 130
  },
  {
   "metadata": {
    "ExecuteTime": {
     "end_time": "2024-09-23T13:52:42.483326Z",
     "start_time": "2024-09-23T13:52:42.470324Z"
    }
   },
   "cell_type": "code",
   "source": [
    "t16 = torch.cat((t12, t13, t14), dim=1) # 1차원을 기준으로 하여 t12, t13, t14를 연결한다.\n",
    "print(t16.size())\n",
    "print(t16)"
   ],
   "id": "8c7767733787f778",
   "outputs": [
    {
     "name": "stdout",
     "output_type": "stream",
     "text": [
      "torch.Size([2, 9])\n",
      "tensor([[ 0,  1,  2,  6,  7,  8, 12, 13, 14],\n",
      "        [ 3,  4,  5,  9, 10, 11, 15, 16, 17]])\n"
     ]
    }
   ],
   "execution_count": 131
  },
  {
   "metadata": {
    "ExecuteTime": {
     "end_time": "2024-09-23T13:54:06.069246Z",
     "start_time": "2024-09-23T13:54:06.063245Z"
    }
   },
   "cell_type": "code",
   "source": [
    "t17 = torch.arange(0, 6).reshape(1, 2, 3) \n",
    "t18 = torch.arange(6, 12).reshape(1, 2, 3)\n",
    "t19 = torch.cat((t17, t18), dim=0) # 0차원을 기준으로 하여 t17, t18을 연결한다.\n",
    "print(t19.size())\n",
    "print(t19)"
   ],
   "id": "d53ec39f5fd56a1b",
   "outputs": [
    {
     "name": "stdout",
     "output_type": "stream",
     "text": [
      "torch.Size([2, 2, 3])\n",
      "tensor([[[ 0,  1,  2],\n",
      "         [ 3,  4,  5]],\n",
      "\n",
      "        [[ 6,  7,  8],\n",
      "         [ 9, 10, 11]]])\n"
     ]
    }
   ],
   "execution_count": 132
  },
  {
   "metadata": {
    "ExecuteTime": {
     "end_time": "2024-09-23T13:54:29.307040Z",
     "start_time": "2024-09-23T13:54:29.289034Z"
    }
   },
   "cell_type": "code",
   "source": [
    "t20 = torch.cat((t17, t18), dim=1) # 1차원을 기준으로 하여 t17, t18을 연결한다.\n",
    "print(t20.size()) \n",
    "print(t20) "
   ],
   "id": "334643b04dc60280",
   "outputs": [
    {
     "name": "stdout",
     "output_type": "stream",
     "text": [
      "torch.Size([1, 4, 3])\n",
      "tensor([[[ 0,  1,  2],\n",
      "         [ 3,  4,  5],\n",
      "         [ 6,  7,  8],\n",
      "         [ 9, 10, 11]]])\n"
     ]
    }
   ],
   "execution_count": 133
  },
  {
   "metadata": {
    "ExecuteTime": {
     "end_time": "2024-09-23T13:54:49.971107Z",
     "start_time": "2024-09-23T13:54:49.957103Z"
    }
   },
   "cell_type": "code",
   "source": [
    "t21 = torch.cat((t17, t18), dim=2) # 2차원을 기준으로 하여 t17, t18을 연결한다.\n",
    "print(t21.size())  \n",
    "print(t21) "
   ],
   "id": "503e7552d25ac082",
   "outputs": [
    {
     "name": "stdout",
     "output_type": "stream",
     "text": [
      "torch.Size([1, 2, 6])\n",
      "tensor([[[ 0,  1,  2,  6,  7,  8],\n",
      "         [ 3,  4,  5,  9, 10, 11]]])\n"
     ]
    }
   ],
   "execution_count": 134
  },
  {
   "metadata": {},
   "cell_type": "markdown",
   "source": " - cat()함수를 이용해서 텐서를 병합(연결)하는 코드를 수행하였다.",
   "id": "89eb5aa5f6663194"
  },
  {
   "metadata": {},
   "cell_type": "markdown",
   "source": "<H1>m_tensor_stacking.py<H1>",
   "id": "5cde1e28f0798778"
  },
  {
   "metadata": {
    "ExecuteTime": {
     "end_time": "2024-09-23T13:57:02.104438Z",
     "start_time": "2024-09-23T13:57:02.099437Z"
    }
   },
   "cell_type": "code",
   "source": "import torch",
   "id": "9edf2f3e5ce3f38d",
   "outputs": [],
   "execution_count": 135
  },
  {
   "metadata": {
    "ExecuteTime": {
     "end_time": "2024-09-23T14:00:57.089546Z",
     "start_time": "2024-09-23T14:00:57.072541Z"
    }
   },
   "cell_type": "code",
   "source": [
    "t1 = torch.tensor([[1, 2, 3], [4, 5, 6]])\n",
    "t2 = torch.tensor([[7, 8, 9], [10, 11, 12]])\n",
    "t3 = torch.stack([t1, t2], dim=0)  #stack()함수의 경우 새로운 차원을 확장해서 합치게 된다. \n",
    "#t1과 t2의 shaep이 (2,3)인데 새로운 차원을 확장하여 (1,2,3)을 합치게 된다. 그래서 t3의 shape는 (2,2,3)이 된다.\n",
    "t4 = torch.cat([t1.unsqueeze(dim=0), t2.unsqueeze(dim=0)], dim=0) #이 과정이 unsqueeze해서 차원을 늘리고 cat으로 합치는 과정이 stack함수와 같은 역할을 한다.\n",
    "print(t3.shape, t3.equal(t4))"
   ],
   "id": "769df0e2efe0043c",
   "outputs": [
    {
     "name": "stdout",
     "output_type": "stream",
     "text": [
      "torch.Size([2, 2, 3]) True\n"
     ]
    }
   ],
   "execution_count": 136
  },
  {
   "metadata": {
    "ExecuteTime": {
     "end_time": "2024-09-23T14:01:53.845407Z",
     "start_time": "2024-09-23T14:01:53.838406Z"
    }
   },
   "cell_type": "code",
   "source": [
    "t5 = torch.stack([t1, t2], dim=1) #이 경우 t1과 t2의 shape이 (2, 1, 3)으로 만들어지고 dim=1을 기준으로 합쳐진다.\n",
    "t6 = torch.cat([t1.unsqueeze(dim=1), t2.unsqueeze(dim=1)], dim=1)\n",
    "print(t5.shape, t5.equal(t6))"
   ],
   "id": "5b79d48d5da53728",
   "outputs": [
    {
     "name": "stdout",
     "output_type": "stream",
     "text": [
      "torch.Size([2, 2, 3]) True\n"
     ]
    }
   ],
   "execution_count": 137
  },
  {
   "metadata": {
    "ExecuteTime": {
     "end_time": "2024-09-23T14:02:17.588580Z",
     "start_time": "2024-09-23T14:02:17.582579Z"
    }
   },
   "cell_type": "code",
   "source": [
    "t7 = torch.stack([t1, t2], dim=2) #이 경우 t1과 t2의 shape이 (2, 3, 1)으로 만들어지고 dim=2을 기준으로 합쳐진다.\n",
    "t8 = torch.cat([t1.unsqueeze(dim=2), t2.unsqueeze(dim=2)], dim=2)\n",
    "print(t7.shape, t7.equal(t8))"
   ],
   "id": "b06d05c178adb15e",
   "outputs": [
    {
     "name": "stdout",
     "output_type": "stream",
     "text": [
      "torch.Size([2, 3, 2]) True\n"
     ]
    }
   ],
   "execution_count": 138
  },
  {
   "metadata": {
    "ExecuteTime": {
     "end_time": "2024-09-23T14:02:40.283810Z",
     "start_time": "2024-09-23T14:02:40.264805Z"
    }
   },
   "cell_type": "code",
   "source": [
    "t9 = torch.arange(0, 3)  # tensor([0, 1, 2])\n",
    "t10 = torch.arange(3, 6)  # tensor([3, 4, 5])\n",
    "print(t9.size(), t10.size()) # >>> torch.Size([3]) torch.Size([3])"
   ],
   "id": "97ec9da7b24b7d12",
   "outputs": [
    {
     "name": "stdout",
     "output_type": "stream",
     "text": [
      "torch.Size([3]) torch.Size([3])\n"
     ]
    }
   ],
   "execution_count": 139
  },
  {
   "metadata": {
    "ExecuteTime": {
     "end_time": "2024-09-23T14:03:47.053906Z",
     "start_time": "2024-09-23T14:03:47.039902Z"
    }
   },
   "cell_type": "code",
   "source": [
    "t11 = torch.stack((t9, t10), dim=0) #t9, t10의 shape가 (1,3)으로 확장되고 dim=0 기준으로 합쳐진다.\n",
    "print(t11.size())  # \n",
    "print(t11)"
   ],
   "id": "ddf9cf627ab9ab4",
   "outputs": [
    {
     "name": "stdout",
     "output_type": "stream",
     "text": [
      "torch.Size([2, 3])\n",
      "tensor([[0, 1, 2],\n",
      "        [3, 4, 5]])\n"
     ]
    }
   ],
   "execution_count": 140
  },
  {
   "metadata": {
    "ExecuteTime": {
     "end_time": "2024-09-23T14:04:21.483900Z",
     "start_time": "2024-09-23T14:04:21.469897Z"
    }
   },
   "cell_type": "code",
   "source": [
    "t12 = torch.cat((t9.unsqueeze(0), t10.unsqueeze(0)), dim=0) #stack과 같은 과정으로 unsqueeze로 확장하고 cat으로 병합한다.\n",
    "print(t11.equal(t12)) #이러면 t11과 똑같은 텐서가 만들어진다."
   ],
   "id": "1b5fbedf82eb37c0",
   "outputs": [
    {
     "name": "stdout",
     "output_type": "stream",
     "text": [
      "True\n"
     ]
    }
   ],
   "execution_count": 141
  },
  {
   "metadata": {
    "ExecuteTime": {
     "end_time": "2024-09-23T14:05:03.443582Z",
     "start_time": "2024-09-23T14:05:03.426578Z"
    }
   },
   "cell_type": "code",
   "source": [
    "t13 = torch.stack((t9, t10), dim=1)  #t9, t10의 shape가 (3, 1)으로 확장되고 dim=1 기준으로 합쳐진다.\n",
    "print(t13.size())  \n",
    "print(t13)"
   ],
   "id": "ae7c8b1fadb217b0",
   "outputs": [
    {
     "name": "stdout",
     "output_type": "stream",
     "text": [
      "torch.Size([3, 2])\n",
      "tensor([[0, 3],\n",
      "        [1, 4],\n",
      "        [2, 5]])\n"
     ]
    }
   ],
   "execution_count": 142
  },
  {
   "metadata": {
    "ExecuteTime": {
     "end_time": "2024-09-23T14:05:18.619523Z",
     "start_time": "2024-09-23T14:05:18.612522Z"
    }
   },
   "cell_type": "code",
   "source": [
    "t14 = torch.cat((t9.unsqueeze(1), t10.unsqueeze(1)), dim=1) #stack과 같은 과정으로 unsqueeze로 확장하고 cat으로 병합한다.\n",
    "print(t13.equal(t14)) #이러면 t13과 똑같은 텐서가 만들어진다."
   ],
   "id": "7b6c6ee8bae0d05c",
   "outputs": [
    {
     "name": "stdout",
     "output_type": "stream",
     "text": [
      "True\n"
     ]
    }
   ],
   "execution_count": 143
  },
  {
   "metadata": {},
   "cell_type": "markdown",
   "source": " - stacking이 어떻게 진행되는지 보고 unsqueeze와 cat을 이용해서 stack과 같은 연산을 하도록 만드는 코드를 수행하였다.",
   "id": "d065dd0709c316dd"
  },
  {
   "metadata": {},
   "cell_type": "markdown",
   "source": "<H1>n_tensor_vstack_hstack.py<H1>",
   "id": "be9d077b32c82909"
  },
  {
   "metadata": {
    "ExecuteTime": {
     "end_time": "2024-09-23T14:18:50.017179Z",
     "start_time": "2024-09-23T14:18:50.000175Z"
    }
   },
   "cell_type": "code",
   "source": "import torch",
   "id": "240a889c8ff2f2a1",
   "outputs": [],
   "execution_count": 144
  },
  {
   "metadata": {
    "ExecuteTime": {
     "end_time": "2024-09-23T14:20:49.623506Z",
     "start_time": "2024-09-23T14:20:49.605502Z"
    }
   },
   "cell_type": "code",
   "source": [
    "t1 = torch.tensor([1, 2, 3])\n",
    "t2 = torch.tensor([4, 5, 6])\n",
    "t3 = torch.vstack((t1, t2)) #vstack()함수는 텐서들을 수직방향으로 결합하는 함수이다. \n",
    "print(t3)"
   ],
   "id": "a19b5f44f44470b0",
   "outputs": [
    {
     "name": "stdout",
     "output_type": "stream",
     "text": [
      "tensor([[1, 2, 3],\n",
      "        [4, 5, 6]])\n"
     ]
    }
   ],
   "execution_count": 145
  },
  {
   "metadata": {
    "ExecuteTime": {
     "end_time": "2024-09-23T14:22:03.539411Z",
     "start_time": "2024-09-23T14:22:03.521408Z"
    }
   },
   "cell_type": "code",
   "source": [
    "t4 = torch.tensor([[1], [2], [3]])  # 3x1 텐서\n",
    "t5 = torch.tensor([[4], [5], [6]])  # 3x1 텐서\n",
    "t6 = torch.vstack((t4, t5)) # 텐서 t4와 t5를 수직 방향으로 결합하여 6*1텐서를 생성한다.\n",
    "print(t6)"
   ],
   "id": "add0d5596815bd7",
   "outputs": [
    {
     "name": "stdout",
     "output_type": "stream",
     "text": [
      "tensor([[1],\n",
      "        [2],\n",
      "        [3],\n",
      "        [4],\n",
      "        [5],\n",
      "        [6]])\n"
     ]
    }
   ],
   "execution_count": 146
  },
  {
   "metadata": {
    "ExecuteTime": {
     "end_time": "2024-09-23T14:22:13.945820Z",
     "start_time": "2024-09-23T14:22:13.931817Z"
    }
   },
   "cell_type": "code",
   "source": [
    "t7 = torch.tensor([  # 2x2x3 텐서\n",
    "  [[1, 2, 3], [4, 5, 6]],\n",
    "  [[7, 8, 9], [10, 11, 12]]\n",
    "])\n",
    "print(t7.shape)"
   ],
   "id": "d844d0b5e0dae18c",
   "outputs": [
    {
     "name": "stdout",
     "output_type": "stream",
     "text": [
      "torch.Size([2, 2, 3])\n"
     ]
    }
   ],
   "execution_count": 147
  },
  {
   "metadata": {
    "ExecuteTime": {
     "end_time": "2024-09-23T14:22:23.389888Z",
     "start_time": "2024-09-23T14:22:23.381886Z"
    }
   },
   "cell_type": "code",
   "source": [
    "t8 = torch.tensor([  # 2x2x3 텐서\n",
    "  [[13, 14, 15], [16, 17, 18]],\n",
    "  [[19, 20, 21], [22, 23, 24]]\n",
    "])\n",
    "print(t8.shape) "
   ],
   "id": "293df5e81618b0f1",
   "outputs": [
    {
     "name": "stdout",
     "output_type": "stream",
     "text": [
      "torch.Size([2, 2, 3])\n"
     ]
    }
   ],
   "execution_count": 148
  },
  {
   "metadata": {
    "ExecuteTime": {
     "end_time": "2024-09-23T14:22:48.780144Z",
     "start_time": "2024-09-23T14:22:48.765141Z"
    }
   },
   "cell_type": "code",
   "source": [
    "t9 = torch.vstack([t7, t8])  # t7과 t8을 수직 방향으로 결합하여 4x2x3 텐서 생성한다.\n",
    "print(t9.shape)\n",
    "print(t9)"
   ],
   "id": "74f13a487d6f5e28",
   "outputs": [
    {
     "name": "stdout",
     "output_type": "stream",
     "text": [
      "torch.Size([4, 2, 3])\n",
      "tensor([[[ 1,  2,  3],\n",
      "         [ 4,  5,  6]],\n",
      "\n",
      "        [[ 7,  8,  9],\n",
      "         [10, 11, 12]],\n",
      "\n",
      "        [[13, 14, 15],\n",
      "         [16, 17, 18]],\n",
      "\n",
      "        [[19, 20, 21],\n",
      "         [22, 23, 24]]])\n"
     ]
    }
   ],
   "execution_count": 149
  },
  {
   "metadata": {
    "ExecuteTime": {
     "end_time": "2024-09-23T14:23:35.571661Z",
     "start_time": "2024-09-23T14:23:35.555657Z"
    }
   },
   "cell_type": "code",
   "source": [
    "t10 = torch.tensor([1, 2, 3])\n",
    "t11 = torch.tensor([4, 5, 6])\n",
    "t12 = torch.hstack((t10, t11)) #hstack()함수는 수평 방향으로 텐서를 결합한다. 텐서 t10과 t11을 수평 방향으로 결합하여 1차원 텐서를 만든다.\n",
    "print(t12)"
   ],
   "id": "58f5585d975cd10b",
   "outputs": [
    {
     "name": "stdout",
     "output_type": "stream",
     "text": [
      "tensor([1, 2, 3, 4, 5, 6])\n"
     ]
    }
   ],
   "execution_count": 150
  },
  {
   "metadata": {
    "ExecuteTime": {
     "end_time": "2024-09-23T14:24:13.304224Z",
     "start_time": "2024-09-23T14:24:13.289220Z"
    }
   },
   "cell_type": "code",
   "source": [
    "t13 = torch.tensor([[1], [2], [3]])  # 3x1 텐서\n",
    "t14 = torch.tensor([[4], [5], [6]])  # 3x1 텐서\n",
    "t15 = torch.hstack((t13, t14))       # 수평 결합(hstack)으로 3x2 텐서 생성한다.\n",
    "print(t15)"
   ],
   "id": "a2dc9e6b7011f8ec",
   "outputs": [
    {
     "name": "stdout",
     "output_type": "stream",
     "text": [
      "tensor([[1, 4],\n",
      "        [2, 5],\n",
      "        [3, 6]])\n"
     ]
    }
   ],
   "execution_count": 152
  },
  {
   "metadata": {
    "ExecuteTime": {
     "end_time": "2024-09-23T14:24:59.445260Z",
     "start_time": "2024-09-23T14:24:59.431257Z"
    }
   },
   "cell_type": "code",
   "source": [
    "t16 = torch.tensor([  \n",
    "  [[1, 2, 3], [4, 5, 6]],\n",
    "  [[7, 8, 9], [10, 11, 12]]\n",
    "])\n",
    "print(t16.shape)\n",
    "t17 = torch.tensor([  \n",
    "  [[13, 14, 15], [16, 17, 18]],\n",
    "  [[19, 20, 21], [22, 23, 24]]\n",
    "])\n",
    "print(t17.shape)"
   ],
   "id": "1ad52e0267c97780",
   "outputs": [
    {
     "name": "stdout",
     "output_type": "stream",
     "text": [
      "torch.Size([2, 2, 3])\n",
      "torch.Size([2, 2, 3])\n"
     ]
    }
   ],
   "execution_count": 153
  },
  {
   "metadata": {
    "ExecuteTime": {
     "end_time": "2024-09-23T14:25:29.307528Z",
     "start_time": "2024-09-23T14:25:29.298527Z"
    }
   },
   "cell_type": "code",
   "source": [
    "t18 = torch.hstack([t16, t17]) #t16과 t17을 수평 방향으로 결합하여 2x4x3 텐서 생성한다.\n",
    "print(t18.shape)\n",
    "print(t18)"
   ],
   "id": "d19f3521d9e26bf5",
   "outputs": [
    {
     "name": "stdout",
     "output_type": "stream",
     "text": [
      "torch.Size([2, 4, 3])\n",
      "tensor([[[ 1,  2,  3],\n",
      "         [ 4,  5,  6],\n",
      "         [13, 14, 15],\n",
      "         [16, 17, 18]],\n",
      "\n",
      "        [[ 7,  8,  9],\n",
      "         [10, 11, 12],\n",
      "         [19, 20, 21],\n",
      "         [22, 23, 24]]])\n"
     ]
    }
   ],
   "execution_count": 154
  },
  {
   "metadata": {},
   "cell_type": "markdown",
   "source": " - hstack과 vstack을 이용해서 수직, 수평으로 결합하는 코드를 수행하였다. ",
   "id": "a930feab6ad84597"
  }
 ],
 "metadata": {
  "kernelspec": {
   "display_name": "Python 3",
   "language": "python",
   "name": "python3"
  },
  "language_info": {
   "codemirror_mode": {
    "name": "ipython",
    "version": 2
   },
   "file_extension": ".py",
   "mimetype": "text/x-python",
   "name": "python",
   "nbconvert_exporter": "python",
   "pygments_lexer": "ipython2",
   "version": "2.7.6"
  }
 },
 "nbformat": 4,
 "nbformat_minor": 5
}
